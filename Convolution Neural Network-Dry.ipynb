{
 "cells": [
  {
   "cell_type": "code",
   "execution_count": 4,
   "metadata": {},
   "outputs": [],
   "source": [
    "import numpy as np\n",
    "import seaborn as sns\n",
    "import pandas as pd\n",
    "import matplotlib.pyplot as plt\n",
    "import tensorflow as tf\n",
    "%matplotlib inline "
   ]
  },
  {
   "cell_type": "code",
   "execution_count": 5,
   "metadata": {},
   "outputs": [],
   "source": [
    "df1=pd.read_csv('n7dryR01.csv')\n",
    "df2=pd.read_csv('n5dryR01.csv')\n",
    "df3=pd.read_csv('n3dryR01.csv')\n",
    "df4=pd.read_csv('n1dryR01.csv')\n",
    "#df5=pd.read_csv('0dryR01.csv')\n",
    "df6=pd.read_csv('p1dryR01.csv')\n",
    "df7=pd.read_csv('p3dryR01.csv')\n",
    "df8=pd.read_csv('p5dryR01.csv')\n",
    "df9=pd.read_csv('p7dryR01.csv')"
   ]
  },
  {
   "cell_type": "code",
   "execution_count": 6,
   "metadata": {},
   "outputs": [],
   "source": [
    "df=pd.concat([df1,df2,df3,df4,df6,df7,df8,df9],axis=0)\n",
    "df.to_csv('combined_data.csv',index=False)"
   ]
  },
  {
   "cell_type": "code",
   "execution_count": 7,
   "metadata": {},
   "outputs": [
    {
     "data": {
      "text/html": [
       "<div>\n",
       "<style scoped>\n",
       "    .dataframe tbody tr th:only-of-type {\n",
       "        vertical-align: middle;\n",
       "    }\n",
       "\n",
       "    .dataframe tbody tr th {\n",
       "        vertical-align: top;\n",
       "    }\n",
       "\n",
       "    .dataframe thead th {\n",
       "        text-align: right;\n",
       "    }\n",
       "</style>\n",
       "<table border=\"1\" class=\"dataframe\">\n",
       "  <thead>\n",
       "    <tr style=\"text-align: right;\">\n",
       "      <th></th>\n",
       "      <th>CurveData</th>\n",
       "      <th>ExpSrfData</th>\n",
       "      <th>ScanData</th>\n",
       "      <th>Disp</th>\n",
       "    </tr>\n",
       "  </thead>\n",
       "  <tbody>\n",
       "    <tr>\n",
       "      <th>0</th>\n",
       "      <td>94.000000</td>\n",
       "      <td>100.000000</td>\n",
       "      <td>102.114523</td>\n",
       "      <td>2.114523</td>\n",
       "    </tr>\n",
       "    <tr>\n",
       "      <th>1</th>\n",
       "      <td>0.000000</td>\n",
       "      <td>0.000000</td>\n",
       "      <td>0.000000</td>\n",
       "      <td>0.000000</td>\n",
       "    </tr>\n",
       "    <tr>\n",
       "      <th>2</th>\n",
       "      <td>0.000000</td>\n",
       "      <td>0.000000</td>\n",
       "      <td>1.200000</td>\n",
       "      <td>1.200000</td>\n",
       "    </tr>\n",
       "    <tr>\n",
       "      <th>3</th>\n",
       "      <td>93.685168</td>\n",
       "      <td>99.685168</td>\n",
       "      <td>101.119889</td>\n",
       "      <td>1.434722</td>\n",
       "    </tr>\n",
       "    <tr>\n",
       "      <th>4</th>\n",
       "      <td>0.000000</td>\n",
       "      <td>0.000000</td>\n",
       "      <td>0.000000</td>\n",
       "      <td>0.000000</td>\n",
       "    </tr>\n",
       "  </tbody>\n",
       "</table>\n",
       "</div>"
      ],
      "text/plain": [
       "   CurveData  ExpSrfData    ScanData      Disp\n",
       "0  94.000000  100.000000  102.114523  2.114523\n",
       "1   0.000000    0.000000    0.000000  0.000000\n",
       "2   0.000000    0.000000    1.200000  1.200000\n",
       "3  93.685168   99.685168  101.119889  1.434722\n",
       "4   0.000000    0.000000    0.000000  0.000000"
      ]
     },
     "execution_count": 7,
     "metadata": {},
     "output_type": "execute_result"
    }
   ],
   "source": [
    "df['Disp']=df['ScanData']-df['ExpSrfData']\n",
    "df.head()"
   ]
  },
  {
   "cell_type": "code",
   "execution_count": 8,
   "metadata": {},
   "outputs": [],
   "source": [
    "disp=np.array(df['Disp'])\n",
    "disp=disp.reshape(int(disp.size/3),3)\n",
    "dispdf=pd.DataFrame(disp,columns=['dx','dy','dz'])"
   ]
  },
  {
   "cell_type": "code",
   "execution_count": 9,
   "metadata": {},
   "outputs": [
    {
     "name": "stderr",
     "output_type": "stream",
     "text": [
      "c:\\python\\lib\\site-packages\\matplotlib\\axes\\_axes.py:6462: UserWarning: The 'normed' kwarg is deprecated, and has been replaced by the 'density' kwarg.\n",
      "  warnings.warn(\"The 'normed' kwarg is deprecated, and has been \"\n"
     ]
    },
    {
     "data": {
      "text/plain": [
       "<matplotlib.axes._subplots.AxesSubplot at 0x1a0c5b00>"
      ]
     },
     "execution_count": 9,
     "metadata": {},
     "output_type": "execute_result"
    },
    {
     "data": {
      "image/png": "[encoded data removed]",
      "text/plain": [
       "<Figure size 432x288 with 1 Axes>"
      ]
     },
     "metadata": {},
     "output_type": "display_data"
    }
   ],
   "source": [
    "sns.distplot(dispdf['dy'])"
   ]
  },
  {
   "cell_type": "code",
   "execution_count": 10,
   "metadata": {},
   "outputs": [],
   "source": [
    "x=np.array(df['CurveData'])"
   ]
  },
  {
   "cell_type": "code",
   "execution_count": 11,
   "metadata": {},
   "outputs": [],
   "source": [
    "y=np.array(df['Disp'])"
   ]
  },
  {
   "cell_type": "code",
   "execution_count": 12,
   "metadata": {},
   "outputs": [],
   "source": [
    "label_dimension=120"
   ]
  },
  {
   "cell_type": "code",
   "execution_count": 14,
   "metadata": {},
   "outputs": [],
   "source": [
    "X=x.reshape(int(x.size/label_dimension),label_dimension)\n",
    "y=y.reshape(int(x.size/label_dimension),label_dimension)\n"
   ]
  },
  {
   "cell_type": "code",
   "execution_count": 48,
   "metadata": {},
   "outputs": [],
   "source": [
    "from sklearn.model_selection import train_test_split\n",
    "from sklearn.preprocessing import StandardScaler\n",
    "from sklearn import metrics"
   ]
  },
  {
   "cell_type": "code",
   "execution_count": 49,
   "metadata": {},
   "outputs": [],
   "source": [
    "scaler=StandardScaler()\n",
    "scaler.fit(X)\n",
    "scaledX=scaler.transform(X)\n",
    "X=scaledX\n"
   ]
  },
  {
   "cell_type": "code",
   "execution_count": 50,
   "metadata": {},
   "outputs": [],
   "source": [
    "X_train, X_test, y_train, y_test = train_test_split(X, y, test_size=0.30, random_state=6)"
   ]
  },
  {
   "cell_type": "code",
   "execution_count": 51,
   "metadata": {},
   "outputs": [],
   "source": [
    "from tensorflow.contrib.learn import DNNRegressor\n",
    "feature_columns = [tf.contrib.layers.real_valued_column(\"\", dimension=label_dimension)]\n",
    "model_dir=\"D:\\\\Yadu Dropbox\\\\Dropbox\\\\SUTD Masters\\\\Organic Sam\\\\18.06.28 Data Extraction\\\\Trained Model\\\\Dry Disp\""
   ]
  },
  {
   "cell_type": "code",
   "execution_count": 52,
   "metadata": {},
   "outputs": [
    {
     "name": "stdout",
     "output_type": "stream",
     "text": [
      "INFO:tensorflow:Using default config.\n",
      "INFO:tensorflow:Using config: {'_cluster_spec': <tensorflow.python.training.server_lib.ClusterSpec object at 0x000000001DB2E860>, '_num_ps_replicas': 0, '_save_summary_steps': 100, '_task_type': None, '_save_checkpoints_secs': 600, '_is_chief': True, '_tf_random_seed': None, '_num_worker_replicas': 0, '_task_id': 0, '_log_step_count_steps': 100, '_keep_checkpoint_every_n_hours': 10000, '_model_dir': 'D:\\\\Yadu Dropbox\\\\Dropbox\\\\SUTD Masters\\\\Organic Sam\\\\18.06.28 Data Extraction\\\\Trained Model\\\\Dry Disp', '_evaluation_master': '', '_master': '', '_keep_checkpoint_max': 5, '_save_checkpoints_steps': None, '_environment': 'local', '_tf_config': gpu_options {\n",
      "  per_process_gpu_memory_fraction: 1\n",
      "}\n",
      ", '_session_config': None}\n"
     ]
    }
   ],
   "source": [
    "regressor=DNNRegressor(model_dir=model_dir,hidden_units=[100,100],feature_columns=feature_columns,label_dimension=label_dimension)"
   ]
  },
  {
   "cell_type": "code",
   "execution_count": 53,
   "metadata": {
    "scrolled": true
   },
   "outputs": [
    {
     "name": "stdout",
     "output_type": "stream",
     "text": [
      "WARNING:tensorflow:From <ipython-input-53-34de5496acee>:1: calling BaseEstimator.fit (from tensorflow.contrib.learn.python.learn.estimators.estimator) with x is deprecated and will be removed after 2016-12-01.\n",
      "Instructions for updating:\n",
      "Estimator is decoupled from Scikit Learn interface by moving into\n",
      "separate class SKCompat. Arguments x, y and batch_size are only\n",
      "available in the SKCompat class, Estimator will only accept input_fn.\n",
      "Example conversion:\n",
      "  est = Estimator(...) -> est = SKCompat(Estimator(...))\n",
      "WARNING:tensorflow:From <ipython-input-53-34de5496acee>:1: calling BaseEstimator.fit (from tensorflow.contrib.learn.python.learn.estimators.estimator) with y is deprecated and will be removed after 2016-12-01.\n",
      "Instructions for updating:\n",
      "Estimator is decoupled from Scikit Learn interface by moving into\n",
      "separate class SKCompat. Arguments x, y and batch_size are only\n",
      "available in the SKCompat class, Estimator will only accept input_fn.\n",
      "Example conversion:\n",
      "  est = Estimator(...) -> est = SKCompat(Estimator(...))\n",
      "WARNING:tensorflow:float64 is not supported by many models, consider casting to float32.\n",
      "WARNING:tensorflow:float64 is not supported by many models, consider casting to float32.\n",
      "WARNING:tensorflow:From c:\\python\\lib\\site-packages\\tensorflow\\contrib\\learn\\python\\learn\\estimators\\head.py:642: scalar_summary (from tensorflow.python.ops.logging_ops) is deprecated and will be removed after 2016-11-30.\n",
      "Instructions for updating:\n",
      "Please switch to tf.summary.scalar. Note that tf.summary.scalar uses the node name instead of the tag. This means that TensorFlow will automatically de-duplicate summary names based on the scope they are created in. Also, passing a tensor or list of tags to a scalar summary op is no longer supported.\n",
      "INFO:tensorflow:Create CheckpointSaverHook.\n",
      "INFO:tensorflow:Saving checkpoints for 1 into D:\\Yadu Dropbox\\Dropbox\\SUTD Masters\\Organic Sam\\18.06.28 Data Extraction\\Trained Model\\Dry Disp\\model.ckpt.\n",
      "INFO:tensorflow:loss = 226.126, step = 1\n",
      "INFO:tensorflow:global_step/sec: 49.7237\n",
      "INFO:tensorflow:loss = 0.723303, step = 101 (2.012 sec)\n",
      "INFO:tensorflow:global_step/sec: 47.89\n",
      "INFO:tensorflow:loss = 0.664286, step = 201 (2.088 sec)\n",
      "INFO:tensorflow:global_step/sec: 50.375\n",
      "INFO:tensorflow:loss = 0.623123, step = 301 (1.985 sec)\n",
      "INFO:tensorflow:global_step/sec: 49.9472\n",
      "INFO:tensorflow:loss = 0.586202, step = 401 (2.002 sec)\n",
      "INFO:tensorflow:global_step/sec: 51.0696\n",
      "INFO:tensorflow:loss = 0.550566, step = 501 (1.960 sec)\n",
      "INFO:tensorflow:global_step/sec: 50.7585\n",
      "INFO:tensorflow:loss = 0.535409, step = 601 (1.968 sec)\n",
      "INFO:tensorflow:global_step/sec: 48.2831\n",
      "INFO:tensorflow:loss = 0.495103, step = 701 (2.071 sec)\n",
      "INFO:tensorflow:global_step/sec: 51.3581\n",
      "INFO:tensorflow:loss = 0.49104, step = 801 (1.946 sec)\n",
      "INFO:tensorflow:global_step/sec: 50.2231\n",
      "INFO:tensorflow:loss = 0.477236, step = 901 (1.991 sec)\n",
      "INFO:tensorflow:global_step/sec: 50.3243\n",
      "INFO:tensorflow:loss = 0.454944, step = 1001 (1.988 sec)\n",
      "INFO:tensorflow:global_step/sec: 50.4512\n",
      "INFO:tensorflow:loss = 0.433633, step = 1101 (1.982 sec)\n",
      "INFO:tensorflow:global_step/sec: 51.3581\n",
      "INFO:tensorflow:loss = 0.410542, step = 1201 (1.947 sec)\n",
      "INFO:tensorflow:global_step/sec: 51.7034\n",
      "INFO:tensorflow:loss = 0.383222, step = 1301 (1.934 sec)\n",
      "INFO:tensorflow:global_step/sec: 51.8105\n",
      "INFO:tensorflow:loss = 0.412001, step = 1401 (1.930 sec)\n",
      "INFO:tensorflow:global_step/sec: 50.3242\n",
      "INFO:tensorflow:loss = 0.413776, step = 1501 (1.987 sec)\n",
      "INFO:tensorflow:global_step/sec: 51.7301\n",
      "INFO:tensorflow:loss = 0.342178, step = 1601 (1.932 sec)\n",
      "INFO:tensorflow:global_step/sec: 51.4904\n",
      "INFO:tensorflow:loss = 0.306482, step = 1701 (1.943 sec)\n",
      "INFO:tensorflow:global_step/sec: 49.8725\n",
      "INFO:tensorflow:loss = 0.291787, step = 1801 (2.005 sec)\n",
      "INFO:tensorflow:global_step/sec: 50.8101\n",
      "INFO:tensorflow:loss = 0.417466, step = 1901 (1.968 sec)\n",
      "INFO:tensorflow:global_step/sec: 51.4904\n",
      "INFO:tensorflow:loss = 0.294864, step = 2001 (1.942 sec)\n",
      "INFO:tensorflow:global_step/sec: 53.2168\n",
      "INFO:tensorflow:loss = 0.267515, step = 2101 (1.879 sec)\n",
      "INFO:tensorflow:global_step/sec: 50.1476\n",
      "INFO:tensorflow:loss = 0.242986, step = 2201 (1.993 sec)\n",
      "INFO:tensorflow:global_step/sec: 53.7604\n",
      "INFO:tensorflow:loss = 0.244552, step = 2301 (1.861 sec)\n",
      "INFO:tensorflow:global_step/sec: 53.0755\n",
      "INFO:tensorflow:loss = 0.222966, step = 2401 (1.883 sec)\n",
      "INFO:tensorflow:global_step/sec: 53.7604\n",
      "INFO:tensorflow:loss = 0.291404, step = 2501 (1.861 sec)\n",
      "INFO:tensorflow:global_step/sec: 53.3019\n",
      "INFO:tensorflow:loss = 0.215545, step = 2601 (1.875 sec)\n",
      "INFO:tensorflow:global_step/sec: 53.7315\n",
      "INFO:tensorflow:loss = 0.192229, step = 2701 (1.862 sec)\n",
      "INFO:tensorflow:global_step/sec: 51.8912\n",
      "INFO:tensorflow:loss = 0.176729, step = 2801 (1.927 sec)\n",
      "INFO:tensorflow:global_step/sec: 52.2163\n",
      "INFO:tensorflow:loss = 0.206895, step = 2901 (1.915 sec)\n",
      "INFO:tensorflow:global_step/sec: 52.7674\n",
      "INFO:tensorflow:loss = 0.172046, step = 3001 (1.895 sec)\n",
      "INFO:tensorflow:global_step/sec: 52.8511\n",
      "INFO:tensorflow:loss = 0.161474, step = 3101 (1.893 sec)\n",
      "INFO:tensorflow:global_step/sec: 50.6557\n",
      "INFO:tensorflow:loss = 0.167141, step = 3201 (1.973 sec)\n",
      "INFO:tensorflow:global_step/sec: 49.9223\n",
      "INFO:tensorflow:loss = 0.142392, step = 3301 (2.002 sec)\n",
      "INFO:tensorflow:global_step/sec: 51.5169\n",
      "INFO:tensorflow:loss = 0.1408, step = 3401 (1.941 sec)\n",
      "INFO:tensorflow:global_step/sec: 52.3805\n",
      "INFO:tensorflow:loss = 0.139778, step = 3501 (1.910 sec)\n",
      "INFO:tensorflow:global_step/sec: 49.7484\n",
      "INFO:tensorflow:loss = 0.13726, step = 3601 (2.010 sec)\n",
      "INFO:tensorflow:global_step/sec: 50.3242\n",
      "INFO:tensorflow:loss = 0.128954, step = 3701 (1.987 sec)\n",
      "INFO:tensorflow:global_step/sec: 51.5966\n",
      "INFO:tensorflow:loss = 0.141291, step = 3801 (1.938 sec)\n",
      "INFO:tensorflow:global_step/sec: 49.8973\n",
      "INFO:tensorflow:loss = 0.124478, step = 3901 (2.004 sec)\n",
      "INFO:tensorflow:global_step/sec: 51.9721\n",
      "INFO:tensorflow:loss = 0.125621, step = 4001 (1.924 sec)\n",
      "INFO:tensorflow:global_step/sec: 51.7837\n",
      "INFO:tensorflow:loss = 0.12216, step = 4101 (1.931 sec)\n",
      "INFO:tensorflow:global_step/sec: 51.1741\n",
      "INFO:tensorflow:loss = 0.123599, step = 4201 (1.954 sec)\n",
      "INFO:tensorflow:global_step/sec: 49.2825\n",
      "INFO:tensorflow:loss = 0.117023, step = 4301 (2.029 sec)\n",
      "INFO:tensorflow:global_step/sec: 50.7328\n",
      "INFO:tensorflow:loss = 0.120103, step = 4401 (1.971 sec)\n",
      "INFO:tensorflow:global_step/sec: 53.2451\n",
      "INFO:tensorflow:loss = 0.116534, step = 4501 (1.879 sec)\n",
      "INFO:tensorflow:global_step/sec: 51.9181\n",
      "INFO:tensorflow:loss = 0.114045, step = 4601 (1.925 sec)\n",
      "INFO:tensorflow:global_step/sec: 50.8359\n",
      "INFO:tensorflow:loss = 0.115831, step = 4701 (1.967 sec)\n",
      "INFO:tensorflow:global_step/sec: 50.0472\n",
      "INFO:tensorflow:loss = 0.114734, step = 4801 (1.998 sec)\n",
      "INFO:tensorflow:global_step/sec: 52.353\n",
      "INFO:tensorflow:loss = 0.11208, step = 4901 (1.910 sec)\n",
      "INFO:tensorflow:global_step/sec: 49.2098\n",
      "INFO:tensorflow:loss = 0.113896, step = 5001 (2.031 sec)\n",
      "INFO:tensorflow:global_step/sec: 50.4767\n",
      "INFO:tensorflow:loss = 0.113839, step = 5101 (1.981 sec)\n",
      "INFO:tensorflow:global_step/sec: 51.9721\n",
      "INFO:tensorflow:loss = 0.111001, step = 5201 (1.925 sec)\n",
      "INFO:tensorflow:global_step/sec: 52.879\n",
      "INFO:tensorflow:loss = 0.110867, step = 5301 (1.891 sec)\n",
      "INFO:tensorflow:global_step/sec: 52.7396\n",
      "INFO:tensorflow:loss = 0.110215, step = 5401 (1.896 sec)\n",
      "INFO:tensorflow:global_step/sec: 53.0474\n",
      "INFO:tensorflow:loss = 0.109843, step = 5501 (1.885 sec)\n",
      "INFO:tensorflow:global_step/sec: 54.3152\n",
      "INFO:tensorflow:loss = 0.109726, step = 5601 (1.841 sec)\n",
      "INFO:tensorflow:global_step/sec: 53.1884\n",
      "INFO:tensorflow:loss = 0.110155, step = 5701 (1.879 sec)\n",
      "INFO:tensorflow:global_step/sec: 53.6162\n",
      "INFO:tensorflow:loss = 0.109495, step = 5801 (1.866 sec)\n",
      "INFO:tensorflow:global_step/sec: 52.907\n",
      "INFO:tensorflow:loss = 0.108834, step = 5901 (1.890 sec)\n",
      "INFO:tensorflow:global_step/sec: 53.1602\n",
      "INFO:tensorflow:loss = 0.108743, step = 6001 (1.881 sec)\n",
      "INFO:tensorflow:global_step/sec: 51.5169\n",
      "INFO:tensorflow:loss = 0.108136, step = 6101 (1.960 sec)\n",
      "INFO:tensorflow:global_step/sec: 51.1218\n",
      "INFO:tensorflow:loss = 0.108331, step = 6201 (1.937 sec)\n",
      "INFO:tensorflow:global_step/sec: 52.4629\n",
      "INFO:tensorflow:loss = 0.108302, step = 6301 (1.906 sec)\n",
      "INFO:tensorflow:global_step/sec: 52.4079\n",
      "INFO:tensorflow:loss = 0.107136, step = 6401 (1.908 sec)\n"
     ]
    },
    {
     "name": "stdout",
     "output_type": "stream",
     "text": [
      "INFO:tensorflow:global_step/sec: 50.9395\n",
      "INFO:tensorflow:loss = 0.107103, step = 6501 (1.963 sec)\n",
      "INFO:tensorflow:global_step/sec: 50.8359\n",
      "INFO:tensorflow:loss = 0.106886, step = 6601 (1.967 sec)\n",
      "INFO:tensorflow:global_step/sec: 52.2709\n",
      "INFO:tensorflow:loss = 0.106479, step = 6701 (1.913 sec)\n",
      "INFO:tensorflow:global_step/sec: 51.7301\n",
      "INFO:tensorflow:loss = 0.107057, step = 6801 (1.933 sec)\n",
      "INFO:tensorflow:global_step/sec: 50.6557\n",
      "INFO:tensorflow:loss = 0.107333, step = 6901 (1.974 sec)\n",
      "INFO:tensorflow:global_step/sec: 51.7301\n",
      "INFO:tensorflow:loss = 0.106393, step = 7001 (1.933 sec)\n",
      "INFO:tensorflow:global_step/sec: 50.5532\n",
      "INFO:tensorflow:loss = 0.105527, step = 7101 (1.978 sec)\n",
      "INFO:tensorflow:global_step/sec: 51.8643\n",
      "INFO:tensorflow:loss = 0.105339, step = 7201 (1.928 sec)\n",
      "INFO:tensorflow:global_step/sec: 50.2484\n",
      "INFO:tensorflow:loss = 0.105192, step = 7301 (1.990 sec)\n",
      "INFO:tensorflow:global_step/sec: 51.5966\n",
      "INFO:tensorflow:loss = 0.104842, step = 7401 (1.938 sec)\n",
      "INFO:tensorflow:global_step/sec: 51.1218\n",
      "INFO:tensorflow:loss = 0.104818, step = 7501 (1.956 sec)\n",
      "INFO:tensorflow:global_step/sec: 51.1218\n",
      "INFO:tensorflow:loss = 0.104531, step = 7601 (1.956 sec)\n",
      "INFO:tensorflow:global_step/sec: 52.4354\n",
      "INFO:tensorflow:loss = 0.104097, step = 7701 (1.907 sec)\n",
      "INFO:tensorflow:global_step/sec: 50.5277\n",
      "INFO:tensorflow:loss = 0.103947, step = 7801 (1.979 sec)\n",
      "INFO:tensorflow:global_step/sec: 50.4258\n",
      "INFO:tensorflow:loss = 0.103987, step = 7901 (1.983 sec)\n",
      "INFO:tensorflow:global_step/sec: 51.8912\n",
      "INFO:tensorflow:loss = 0.103532, step = 8001 (1.927 sec)\n",
      "INFO:tensorflow:global_step/sec: 51.3845\n",
      "INFO:tensorflow:loss = 0.103334, step = 8101 (1.946 sec)\n",
      "INFO:tensorflow:global_step/sec: 51.2266\n",
      "INFO:tensorflow:loss = 0.10333, step = 8201 (1.952 sec)\n",
      "INFO:tensorflow:global_step/sec: 53.0192\n",
      "INFO:tensorflow:loss = 0.103041, step = 8301 (1.885 sec)\n",
      "INFO:tensorflow:global_step/sec: 50.707\n",
      "INFO:tensorflow:loss = 0.102939, step = 8401 (1.973 sec)\n",
      "INFO:tensorflow:global_step/sec: 51.6499\n",
      "INFO:tensorflow:loss = 0.102653, step = 8501 (1.936 sec)\n",
      "INFO:tensorflow:global_step/sec: 52.6009\n",
      "INFO:tensorflow:loss = 0.102838, step = 8601 (1.901 sec)\n",
      "INFO:tensorflow:global_step/sec: 51.5966\n",
      "INFO:tensorflow:loss = 0.102659, step = 8701 (1.937 sec)\n",
      "INFO:tensorflow:global_step/sec: 52.2436\n",
      "INFO:tensorflow:loss = 0.102341, step = 8801 (1.915 sec)\n",
      "INFO:tensorflow:global_step/sec: 52.907\n",
      "INFO:tensorflow:loss = 0.102167, step = 8901 (1.890 sec)\n",
      "INFO:tensorflow:global_step/sec: 53.0755\n",
      "INFO:tensorflow:loss = 0.103169, step = 9001 (1.884 sec)\n",
      "INFO:tensorflow:global_step/sec: 53.1602\n",
      "INFO:tensorflow:loss = 0.102399, step = 9101 (1.881 sec)\n",
      "INFO:tensorflow:global_step/sec: 53.1319\n",
      "INFO:tensorflow:loss = 0.10191, step = 9201 (1.882 sec)\n",
      "INFO:tensorflow:global_step/sec: 53.2451\n",
      "INFO:tensorflow:loss = 0.101628, step = 9301 (1.878 sec)\n",
      "INFO:tensorflow:global_step/sec: 52.6009\n",
      "INFO:tensorflow:loss = 0.101431, step = 9401 (1.901 sec)\n",
      "INFO:tensorflow:global_step/sec: 53.4729\n",
      "INFO:tensorflow:loss = 0.101307, step = 9501 (1.869 sec)\n",
      "INFO:tensorflow:global_step/sec: 52.0262\n",
      "INFO:tensorflow:loss = 0.101064, step = 9601 (1.923 sec)\n",
      "INFO:tensorflow:global_step/sec: 53.4729\n",
      "INFO:tensorflow:loss = 0.100996, step = 9701 (1.870 sec)\n",
      "INFO:tensorflow:global_step/sec: 51.3845\n",
      "INFO:tensorflow:loss = 0.101159, step = 9801 (1.946 sec)\n",
      "INFO:tensorflow:global_step/sec: 51.9991\n",
      "INFO:tensorflow:loss = 0.101903, step = 9901 (1.923 sec)\n",
      "INFO:tensorflow:global_step/sec: 52.4354\n",
      "INFO:tensorflow:loss = 0.101012, step = 10001 (1.906 sec)\n",
      "INFO:tensorflow:global_step/sec: 52.0262\n",
      "INFO:tensorflow:loss = 0.10065, step = 10101 (1.923 sec)\n",
      "INFO:tensorflow:global_step/sec: 50.3242\n",
      "INFO:tensorflow:loss = 0.100578, step = 10201 (1.987 sec)\n",
      "INFO:tensorflow:global_step/sec: 51.0696\n",
      "INFO:tensorflow:loss = 0.100098, step = 10301 (1.958 sec)\n",
      "INFO:tensorflow:global_step/sec: 52.3804\n",
      "INFO:tensorflow:loss = 0.100065, step = 10401 (1.909 sec)\n",
      "INFO:tensorflow:global_step/sec: 52.4629\n",
      "INFO:tensorflow:loss = 0.0998865, step = 10501 (1.906 sec)\n",
      "INFO:tensorflow:global_step/sec: 52.684\n",
      "INFO:tensorflow:loss = 0.0997093, step = 10601 (1.898 sec)\n",
      "INFO:tensorflow:global_step/sec: 52.7674\n",
      "INFO:tensorflow:loss = 0.0998942, step = 10701 (1.895 sec)\n",
      "INFO:tensorflow:global_step/sec: 52.7953\n",
      "INFO:tensorflow:loss = 0.0993949, step = 10801 (1.894 sec)\n",
      "INFO:tensorflow:global_step/sec: 52.1891\n",
      "INFO:tensorflow:loss = 0.0990712, step = 10901 (1.916 sec)\n",
      "INFO:tensorflow:global_step/sec: 52.5456\n",
      "INFO:tensorflow:loss = 0.0992809, step = 11001 (1.903 sec)\n",
      "INFO:tensorflow:global_step/sec: 52.518\n",
      "INFO:tensorflow:loss = 0.0992818, step = 11101 (1.904 sec)\n",
      "INFO:tensorflow:global_step/sec: 52.7953\n",
      "INFO:tensorflow:loss = 0.0990353, step = 11201 (1.894 sec)\n",
      "INFO:tensorflow:global_step/sec: 50.8877\n",
      "INFO:tensorflow:loss = 0.0987597, step = 11301 (1.964 sec)\n",
      "INFO:tensorflow:global_step/sec: 51.4639\n",
      "INFO:tensorflow:loss = 0.0985384, step = 11401 (1.944 sec)\n",
      "INFO:tensorflow:global_step/sec: 52.1075\n",
      "INFO:tensorflow:loss = 0.0983767, step = 11501 (1.919 sec)\n",
      "INFO:tensorflow:global_step/sec: 51.1741\n",
      "INFO:tensorflow:loss = 0.0982369, step = 11601 (1.954 sec)\n",
      "INFO:tensorflow:global_step/sec: 50.9136\n",
      "INFO:tensorflow:loss = 0.0983164, step = 11701 (1.964 sec)\n",
      "INFO:tensorflow:global_step/sec: 52.353\n",
      "INFO:tensorflow:loss = 0.0981525, step = 11801 (1.909 sec)\n",
      "INFO:tensorflow:global_step/sec: 51.8912\n",
      "INFO:tensorflow:loss = 0.0979412, step = 11901 (1.928 sec)\n",
      "INFO:tensorflow:global_step/sec: 51.9991\n",
      "INFO:tensorflow:loss = 0.0977743, step = 12001 (1.923 sec)\n",
      "INFO:tensorflow:global_step/sec: 53.1602\n",
      "INFO:tensorflow:loss = 0.0975517, step = 12101 (1.881 sec)\n",
      "INFO:tensorflow:global_step/sec: 52.7953\n",
      "INFO:tensorflow:loss = 0.097342, step = 12201 (1.894 sec)\n",
      "INFO:tensorflow:global_step/sec: 51.9991\n",
      "INFO:tensorflow:loss = 0.0972017, step = 12301 (1.923 sec)\n",
      "INFO:tensorflow:global_step/sec: 52.8511\n",
      "INFO:tensorflow:loss = 0.0971033, step = 12401 (1.914 sec)\n",
      "INFO:tensorflow:global_step/sec: 51.0957\n",
      "INFO:tensorflow:loss = 0.0969925, step = 12501 (1.935 sec)\n",
      "INFO:tensorflow:global_step/sec: 52.2436\n",
      "INFO:tensorflow:loss = 0.0967877, step = 12601 (1.914 sec)\n",
      "INFO:tensorflow:global_step/sec: 50.8877\n",
      "INFO:tensorflow:loss = 0.0966604, step = 12701 (1.965 sec)\n",
      "INFO:tensorflow:global_step/sec: 51.3845\n",
      "INFO:tensorflow:loss = 0.096497, step = 12801 (1.946 sec)\n",
      "INFO:tensorflow:global_step/sec: 49.9472\n",
      "INFO:tensorflow:loss = 0.0963738, step = 12901 (2.004 sec)\n",
      "INFO:tensorflow:global_step/sec: 51.2004\n",
      "INFO:tensorflow:loss = 0.0962134, step = 13001 (1.951 sec)\n",
      "INFO:tensorflow:global_step/sec: 51.7569\n",
      "INFO:tensorflow:loss = 0.0960586, step = 13101 (1.932 sec)\n",
      "INFO:tensorflow:global_step/sec: 50.9136\n",
      "INFO:tensorflow:loss = 0.0958162, step = 13201 (1.964 sec)\n",
      "INFO:tensorflow:global_step/sec: 51.2004\n",
      "INFO:tensorflow:loss = 0.0957768, step = 13301 (1.953 sec)\n",
      "INFO:tensorflow:global_step/sec: 51.0435\n",
      "INFO:tensorflow:loss = 0.0984373, step = 13401 (1.959 sec)\n",
      "INFO:tensorflow:global_step/sec: 49.7732\n",
      "INFO:tensorflow:loss = 0.0967156, step = 13501 (2.009 sec)\n",
      "INFO:tensorflow:global_step/sec: 51.3054\n",
      "INFO:tensorflow:loss = 0.0961573, step = 13601 (1.949 sec)\n",
      "INFO:tensorflow:global_step/sec: 50.5788\n",
      "INFO:tensorflow:loss = 0.0959063, step = 13701 (1.977 sec)\n",
      "INFO:tensorflow:global_step/sec: 50.8101\n",
      "INFO:tensorflow:loss = 0.0955939, step = 13801 (1.968 sec)\n",
      "INFO:tensorflow:global_step/sec: 50.9655\n",
      "INFO:tensorflow:loss = 0.0954283, step = 13901 (1.963 sec)\n",
      "INFO:tensorflow:global_step/sec: 51.0175\n",
      "INFO:tensorflow:loss = 0.0952098, step = 14001 (1.960 sec)\n",
      "INFO:tensorflow:global_step/sec: 51.9181\n",
      "INFO:tensorflow:loss = 0.0952101, step = 14101 (1.926 sec)\n",
      "INFO:tensorflow:global_step/sec: 52.0532\n",
      "INFO:tensorflow:loss = 0.0951658, step = 14201 (1.920 sec)\n",
      "INFO:tensorflow:global_step/sec: 52.5732\n",
      "INFO:tensorflow:loss = 0.0953813, step = 14301 (1.902 sec)\n",
      "INFO:tensorflow:global_step/sec: 52.4629\n",
      "INFO:tensorflow:loss = 0.0948795, step = 14401 (1.906 sec)\n",
      "INFO:tensorflow:global_step/sec: 52.2163\n",
      "INFO:tensorflow:loss = 0.0946937, step = 14501 (1.915 sec)\n",
      "INFO:tensorflow:global_step/sec: 51.2266\n",
      "INFO:tensorflow:loss = 0.0945648, step = 14601 (1.952 sec)\n",
      "INFO:tensorflow:global_step/sec: 51.0175\n",
      "INFO:tensorflow:loss = 0.0945145, step = 14701 (1.960 sec)\n"
     ]
    },
    {
     "name": "stdout",
     "output_type": "stream",
     "text": [
      "INFO:tensorflow:global_step/sec: 51.6766\n",
      "INFO:tensorflow:loss = 0.0942646, step = 14801 (1.935 sec)\n",
      "INFO:tensorflow:global_step/sec: 50.375\n",
      "INFO:tensorflow:loss = 0.0937848, step = 14901 (1.986 sec)\n",
      "INFO:tensorflow:global_step/sec: 48.9688\n",
      "INFO:tensorflow:loss = 0.09402, step = 15001 (2.041 sec)\n",
      "INFO:tensorflow:global_step/sec: 50.5788\n",
      "INFO:tensorflow:loss = 0.0935214, step = 15101 (1.977 sec)\n",
      "INFO:tensorflow:global_step/sec: 50.4767\n",
      "INFO:tensorflow:loss = 0.0933975, step = 15201 (1.981 sec)\n",
      "INFO:tensorflow:global_step/sec: 52.8232\n",
      "INFO:tensorflow:loss = 0.0936613, step = 15301 (1.892 sec)\n",
      "INFO:tensorflow:global_step/sec: 51.2003\n",
      "INFO:tensorflow:loss = 0.0945431, step = 15401 (1.954 sec)\n",
      "INFO:tensorflow:global_step/sec: 52.353\n",
      "INFO:tensorflow:loss = 0.0936858, step = 15501 (1.910 sec)\n",
      "INFO:tensorflow:global_step/sec: 50.9915\n",
      "INFO:tensorflow:loss = 0.0934173, step = 15601 (1.961 sec)\n",
      "INFO:tensorflow:global_step/sec: 51.8105\n",
      "INFO:tensorflow:loss = 0.0937664, step = 15701 (1.930 sec)\n",
      "INFO:tensorflow:global_step/sec: 53.6162\n",
      "INFO:tensorflow:loss = 0.0934102, step = 15801 (1.865 sec)\n",
      "INFO:tensorflow:global_step/sec: 49.9971\n",
      "INFO:tensorflow:loss = 0.0930652, step = 15901 (2.001 sec)\n",
      "INFO:tensorflow:global_step/sec: 50.4767\n",
      "INFO:tensorflow:loss = 0.0929827, step = 16001 (1.980 sec)\n",
      "INFO:tensorflow:global_step/sec: 52.2709\n",
      "INFO:tensorflow:loss = 0.0926266, step = 16101 (1.913 sec)\n",
      "INFO:tensorflow:global_step/sec: 51.4374\n",
      "INFO:tensorflow:loss = 0.0923995, step = 16201 (1.944 sec)\n",
      "INFO:tensorflow:global_step/sec: 52.0803\n",
      "INFO:tensorflow:loss = 0.0921556, step = 16301 (1.920 sec)\n",
      "INFO:tensorflow:global_step/sec: 52.1619\n",
      "INFO:tensorflow:loss = 0.0920916, step = 16401 (1.916 sec)\n",
      "INFO:tensorflow:global_step/sec: 50.7585\n",
      "INFO:tensorflow:loss = 0.0922964, step = 16501 (1.971 sec)\n",
      "INFO:tensorflow:global_step/sec: 51.1741\n",
      "INFO:tensorflow:loss = 0.0921133, step = 16601 (1.954 sec)\n",
      "INFO:tensorflow:global_step/sec: 50.7328\n",
      "INFO:tensorflow:loss = 0.0920054, step = 16701 (1.971 sec)\n",
      "INFO:tensorflow:global_step/sec: 52.353\n",
      "INFO:tensorflow:loss = 0.0917425, step = 16801 (1.910 sec)\n",
      "INFO:tensorflow:global_step/sec: 50.63\n",
      "INFO:tensorflow:loss = 0.0915167, step = 16901 (1.975 sec)\n",
      "INFO:tensorflow:global_step/sec: 48.7777\n",
      "INFO:tensorflow:loss = 0.091322, step = 17001 (2.050 sec)\n",
      "INFO:tensorflow:global_step/sec: 52.0532\n",
      "INFO:tensorflow:loss = 0.0912805, step = 17101 (1.921 sec)\n",
      "INFO:tensorflow:global_step/sec: 50.5532\n",
      "INFO:tensorflow:loss = 0.0910446, step = 17201 (1.978 sec)\n",
      "INFO:tensorflow:global_step/sec: 49.3799\n",
      "INFO:tensorflow:loss = 0.0908183, step = 17301 (2.025 sec)\n",
      "INFO:tensorflow:global_step/sec: 50.5277\n",
      "INFO:tensorflow:loss = 0.0907989, step = 17401 (1.978 sec)\n",
      "INFO:tensorflow:global_step/sec: 50.0722\n",
      "INFO:tensorflow:loss = 0.0907859, step = 17501 (1.998 sec)\n",
      "INFO:tensorflow:global_step/sec: 50.63\n",
      "INFO:tensorflow:loss = 0.0906063, step = 17601 (1.974 sec)\n",
      "INFO:tensorflow:global_step/sec: 52.4904\n",
      "INFO:tensorflow:loss = 0.0904152, step = 17701 (1.906 sec)\n",
      "INFO:tensorflow:global_step/sec: 52.8511\n",
      "INFO:tensorflow:loss = 0.0901803, step = 17801 (1.892 sec)\n",
      "INFO:tensorflow:global_step/sec: 53.0474\n",
      "INFO:tensorflow:loss = 0.0900474, step = 17901 (1.885 sec)\n",
      "INFO:tensorflow:global_step/sec: 53.0755\n",
      "INFO:tensorflow:loss = 0.08988, step = 18001 (1.884 sec)\n",
      "INFO:tensorflow:global_step/sec: 52.3256\n",
      "INFO:tensorflow:loss = 0.0897345, step = 18101 (1.911 sec)\n",
      "INFO:tensorflow:global_step/sec: 52.8232\n",
      "INFO:tensorflow:loss = 0.089473, step = 18201 (1.893 sec)\n",
      "INFO:tensorflow:global_step/sec: 54.0802\n",
      "INFO:tensorflow:loss = 0.0895245, step = 18301 (1.849 sec)\n",
      "INFO:tensorflow:global_step/sec: 51.57\n",
      "INFO:tensorflow:loss = 0.089283, step = 18401 (1.938 sec)\n",
      "INFO:tensorflow:global_step/sec: 52.2709\n",
      "INFO:tensorflow:loss = 0.0891341, step = 18501 (1.913 sec)\n",
      "INFO:tensorflow:global_step/sec: 52.7118\n",
      "INFO:tensorflow:loss = 0.0891537, step = 18601 (1.914 sec)\n",
      "INFO:tensorflow:global_step/sec: 49.7484\n",
      "INFO:tensorflow:loss = 0.0887931, step = 18701 (1.994 sec)\n",
      "INFO:tensorflow:global_step/sec: 51.3054\n",
      "INFO:tensorflow:loss = 0.0887244, step = 18801 (1.949 sec)\n",
      "INFO:tensorflow:global_step/sec: 51.0175\n",
      "INFO:tensorflow:loss = 0.0885536, step = 18901 (1.960 sec)\n",
      "INFO:tensorflow:global_step/sec: 50.2736\n",
      "INFO:tensorflow:loss = 0.088458, step = 19001 (1.989 sec)\n",
      "INFO:tensorflow:global_step/sec: 51.0435\n",
      "INFO:tensorflow:loss = 0.0883525, step = 19101 (1.959 sec)\n",
      "INFO:tensorflow:global_step/sec: 53.1602\n",
      "INFO:tensorflow:loss = 0.0882604, step = 19201 (1.881 sec)\n",
      "INFO:tensorflow:global_step/sec: 53.5875\n",
      "INFO:tensorflow:loss = 0.0881297, step = 19301 (1.866 sec)\n",
      "INFO:tensorflow:global_step/sec: 52.0262\n",
      "INFO:tensorflow:loss = 0.0879983, step = 19401 (1.922 sec)\n",
      "INFO:tensorflow:global_step/sec: 52.1347\n",
      "INFO:tensorflow:loss = 0.0879388, step = 19501 (1.918 sec)\n",
      "INFO:tensorflow:global_step/sec: 50.0722\n",
      "INFO:tensorflow:loss = 0.0878071, step = 19601 (1.997 sec)\n",
      "INFO:tensorflow:global_step/sec: 52.0804\n",
      "INFO:tensorflow:loss = 0.0875581, step = 19701 (1.920 sec)\n",
      "INFO:tensorflow:global_step/sec: 48.4703\n",
      "INFO:tensorflow:loss = 0.0874612, step = 19801 (2.063 sec)\n",
      "INFO:tensorflow:global_step/sec: 50.63\n",
      "INFO:tensorflow:loss = 0.0874356, step = 19901 (1.974 sec)\n",
      "INFO:tensorflow:Saving checkpoints for 20000 into D:\\Yadu Dropbox\\Dropbox\\SUTD Masters\\Organic Sam\\18.06.28 Data Extraction\\Trained Model\\Dry Disp\\model.ckpt.\n",
      "INFO:tensorflow:Loss for final step: 0.0870452.\n"
     ]
    },
    {
     "data": {
      "text/plain": [
       "DNNRegressor(params={'dropout': None, 'feature_columns': (_RealValuedColumn(column_name='', dimension=120, default_value=None, dtype=tf.float32, normalizer=None),), 'hidden_units': [100, 100], 'embedding_lr_multipliers': None, 'head': <tensorflow.contrib.learn.python.learn.estimators.head._RegressionHead object at 0x000000001CA14358>, 'input_layer_min_slice_size': None, 'gradient_clip_norm': None, 'optimizer': None, 'activation_fn': <function relu at 0x0000000018727EA0>})"
      ]
     },
     "execution_count": 53,
     "metadata": {},
     "output_type": "execute_result"
    }
   ],
   "source": [
    "regressor.fit(X_train,y_train,steps=20000)"
   ]
  },
  {
   "cell_type": "code",
   "execution_count": 54,
   "metadata": {
    "scrolled": true
   },
   "outputs": [
    {
     "name": "stdout",
     "output_type": "stream",
     "text": [
      "WARNING:tensorflow:From c:\\python\\lib\\site-packages\\tensorflow\\contrib\\learn\\python\\learn\\estimators\\dnn.py:689: calling BaseEstimator.evaluate (from tensorflow.contrib.learn.python.learn.estimators.estimator) with x is deprecated and will be removed after 2016-12-01.\n",
      "Instructions for updating:\n",
      "Estimator is decoupled from Scikit Learn interface by moving into\n",
      "separate class SKCompat. Arguments x, y and batch_size are only\n",
      "available in the SKCompat class, Estimator will only accept input_fn.\n",
      "Example conversion:\n",
      "  est = Estimator(...) -> est = SKCompat(Estimator(...))\n",
      "WARNING:tensorflow:From c:\\python\\lib\\site-packages\\tensorflow\\contrib\\learn\\python\\learn\\estimators\\dnn.py:689: calling BaseEstimator.evaluate (from tensorflow.contrib.learn.python.learn.estimators.estimator) with y is deprecated and will be removed after 2016-12-01.\n",
      "Instructions for updating:\n",
      "Estimator is decoupled from Scikit Learn interface by moving into\n",
      "separate class SKCompat. Arguments x, y and batch_size are only\n",
      "available in the SKCompat class, Estimator will only accept input_fn.\n",
      "Example conversion:\n",
      "  est = Estimator(...) -> est = SKCompat(Estimator(...))\n",
      "WARNING:tensorflow:float64 is not supported by many models, consider casting to float32.\n",
      "WARNING:tensorflow:float64 is not supported by many models, consider casting to float32.\n",
      "WARNING:tensorflow:From c:\\python\\lib\\site-packages\\tensorflow\\contrib\\learn\\python\\learn\\estimators\\head.py:642: scalar_summary (from tensorflow.python.ops.logging_ops) is deprecated and will be removed after 2016-11-30.\n",
      "Instructions for updating:\n",
      "Please switch to tf.summary.scalar. Note that tf.summary.scalar uses the node name instead of the tag. This means that TensorFlow will automatically de-duplicate summary names based on the scope they are created in. Also, passing a tensor or list of tags to a scalar summary op is no longer supported.\n",
      "INFO:tensorflow:Starting evaluation at 2018-07-06-03:33:43\n",
      "INFO:tensorflow:Restoring parameters from D:\\Yadu Dropbox\\Dropbox\\SUTD Masters\\Organic Sam\\18.06.28 Data Extraction\\Trained Model\\Dry Disp\\model.ckpt-20000\n",
      "INFO:tensorflow:Evaluation [1/1]\n",
      "INFO:tensorflow:Finished evaluation at 2018-07-06-03:33:44\n",
      "INFO:tensorflow:Saving dict for global step 20000: global_step = 20000, loss = 0.10193\n"
     ]
    }
   ],
   "source": [
    "regeval=regressor.evaluate(X_test,y_test,steps=1)"
   ]
  },
  {
   "cell_type": "code",
   "execution_count": 55,
   "metadata": {},
   "outputs": [
    {
     "name": "stdout",
     "output_type": "stream",
     "text": [
      "WARNING:tensorflow:From <ipython-input-55-f089ad18cdfe>:1: calling DNNRegressor.predict (from tensorflow.contrib.learn.python.learn.estimators.dnn) with as_iterable=False is deprecated and will be removed after 2016-09-15.\n",
      "Instructions for updating:\n",
      "The default behavior of predict() is changing. The default value for\n",
      "as_iterable will change to True, and then the flag will be removed\n",
      "altogether. The behavior of this flag is described below.\n",
      "WARNING:tensorflow:From c:\\python\\lib\\site-packages\\tensorflow\\python\\util\\deprecation.py:355: calling DNNRegressor.predict (from tensorflow.contrib.learn.python.learn.estimators.dnn) with outputs=None is deprecated and will be removed after 2017-03-01.\n",
      "Instructions for updating:\n",
      "Please switch to predict_scores, or set `outputs` argument.\n",
      "WARNING:tensorflow:From c:\\python\\lib\\site-packages\\tensorflow\\contrib\\learn\\python\\learn\\estimators\\dnn.py:728: calling DNNRegressor.predict_scores (from tensorflow.contrib.learn.python.learn.estimators.dnn) with as_iterable=False is deprecated and will be removed after 2016-09-15.\n",
      "Instructions for updating:\n",
      "The default behavior of predict() is changing. The default value for\n",
      "as_iterable will change to True, and then the flag will be removed\n",
      "altogether. The behavior of this flag is described below.\n",
      "WARNING:tensorflow:From c:\\python\\lib\\site-packages\\tensorflow\\contrib\\learn\\python\\learn\\estimators\\dnn.py:764: calling BaseEstimator.predict (from tensorflow.contrib.learn.python.learn.estimators.estimator) with x is deprecated and will be removed after 2016-12-01.\n",
      "Instructions for updating:\n",
      "Estimator is decoupled from Scikit Learn interface by moving into\n",
      "separate class SKCompat. Arguments x, y and batch_size are only\n",
      "available in the SKCompat class, Estimator will only accept input_fn.\n",
      "Example conversion:\n",
      "  est = Estimator(...) -> est = SKCompat(Estimator(...))\n",
      "WARNING:tensorflow:From c:\\python\\lib\\site-packages\\tensorflow\\contrib\\learn\\python\\learn\\estimators\\dnn.py:764: calling BaseEstimator.predict (from tensorflow.contrib.learn.python.learn.estimators.estimator) with as_iterable is deprecated and will be removed after 2016-12-01.\n",
      "Instructions for updating:\n",
      "Estimator is decoupled from Scikit Learn interface by moving into\n",
      "separate class SKCompat. Arguments x, y and batch_size are only\n",
      "available in the SKCompat class, Estimator will only accept input_fn.\n",
      "Example conversion:\n",
      "  est = Estimator(...) -> est = SKCompat(Estimator(...))\n",
      "WARNING:tensorflow:float64 is not supported by many models, consider casting to float32.\n",
      "INFO:tensorflow:Restoring parameters from D:\\Yadu Dropbox\\Dropbox\\SUTD Masters\\Organic Sam\\18.06.28 Data Extraction\\Trained Model\\Dry Disp\\model.ckpt-20000\n"
     ]
    }
   ],
   "source": [
    "regpredict=regressor.predict(X_test,as_iterable=False)"
   ]
  },
  {
   "cell_type": "code",
   "execution_count": 56,
   "metadata": {},
   "outputs": [
    {
     "name": "stdout",
     "output_type": "stream",
     "text": [
      "WARNING:tensorflow:From <ipython-input-56-b4777157c769>:1: calling DNNRegressor.predict (from tensorflow.contrib.learn.python.learn.estimators.dnn) with as_iterable=False is deprecated and will be removed after 2016-09-15.\n",
      "Instructions for updating:\n",
      "The default behavior of predict() is changing. The default value for\n",
      "as_iterable will change to True, and then the flag will be removed\n",
      "altogether. The behavior of this flag is described below.\n",
      "WARNING:tensorflow:From c:\\python\\lib\\site-packages\\tensorflow\\python\\util\\deprecation.py:355: calling DNNRegressor.predict (from tensorflow.contrib.learn.python.learn.estimators.dnn) with outputs=None is deprecated and will be removed after 2017-03-01.\n",
      "Instructions for updating:\n",
      "Please switch to predict_scores, or set `outputs` argument.\n",
      "WARNING:tensorflow:From c:\\python\\lib\\site-packages\\tensorflow\\contrib\\learn\\python\\learn\\estimators\\dnn.py:728: calling DNNRegressor.predict_scores (from tensorflow.contrib.learn.python.learn.estimators.dnn) with as_iterable=False is deprecated and will be removed after 2016-09-15.\n",
      "Instructions for updating:\n",
      "The default behavior of predict() is changing. The default value for\n",
      "as_iterable will change to True, and then the flag will be removed\n",
      "altogether. The behavior of this flag is described below.\n",
      "WARNING:tensorflow:From c:\\python\\lib\\site-packages\\tensorflow\\contrib\\learn\\python\\learn\\estimators\\dnn.py:764: calling BaseEstimator.predict (from tensorflow.contrib.learn.python.learn.estimators.estimator) with x is deprecated and will be removed after 2016-12-01.\n",
      "Instructions for updating:\n",
      "Estimator is decoupled from Scikit Learn interface by moving into\n",
      "separate class SKCompat. Arguments x, y and batch_size are only\n",
      "available in the SKCompat class, Estimator will only accept input_fn.\n",
      "Example conversion:\n",
      "  est = Estimator(...) -> est = SKCompat(Estimator(...))\n",
      "WARNING:tensorflow:From c:\\python\\lib\\site-packages\\tensorflow\\contrib\\learn\\python\\learn\\estimators\\dnn.py:764: calling BaseEstimator.predict (from tensorflow.contrib.learn.python.learn.estimators.estimator) with as_iterable is deprecated and will be removed after 2016-12-01.\n",
      "Instructions for updating:\n",
      "Estimator is decoupled from Scikit Learn interface by moving into\n",
      "separate class SKCompat. Arguments x, y and batch_size are only\n",
      "available in the SKCompat class, Estimator will only accept input_fn.\n",
      "Example conversion:\n",
      "  est = Estimator(...) -> est = SKCompat(Estimator(...))\n",
      "WARNING:tensorflow:float64 is not supported by many models, consider casting to float32.\n",
      "INFO:tensorflow:Restoring parameters from D:\\Yadu Dropbox\\Dropbox\\SUTD Masters\\Organic Sam\\18.06.28 Data Extraction\\Trained Model\\Dry Disp\\model.ckpt-20000\n"
     ]
    }
   ],
   "source": [
    "score = metrics.mean_squared_error(regressor.predict(X_test, as_iterable=False), y_test)"
   ]
  },
  {
   "cell_type": "code",
   "execution_count": 57,
   "metadata": {},
   "outputs": [
    {
     "data": {
      "text/plain": [
       "0.10193077280684824"
      ]
     },
     "execution_count": 57,
     "metadata": {},
     "output_type": "execute_result"
    }
   ],
   "source": [
    "score"
   ]
  },
  {
   "cell_type": "code",
   "execution_count": 58,
   "metadata": {},
   "outputs": [
    {
     "data": {
      "text/plain": [
       "0.31926599068307954"
      ]
     },
     "execution_count": 58,
     "metadata": {},
     "output_type": "execute_result"
    }
   ],
   "source": [
    "np.sqrt(metrics.mean_squared_error(y_test,regpredict))"
   ]
  },
  {
   "cell_type": "markdown",
   "metadata": {},
   "source": [
    "# Predictions"
   ]
  },
  {
   "cell_type": "code",
   "execution_count": 1,
   "metadata": {},
   "outputs": [],
   "source": [
    "import numpy as np\n",
    "import seaborn as sns\n",
    "import pandas as pd\n",
    "import matplotlib.pyplot as plt\n",
    "import tensorflow as tf\n",
    "%matplotlib inline \n",
    "from sklearn.preprocessing import StandardScaler"
   ]
  },
  {
   "cell_type": "code",
   "execution_count": 2,
   "metadata": {},
   "outputs": [
    {
     "name": "stdout",
     "output_type": "stream",
     "text": [
      "WARNING:tensorflow:From c:\\users\\samuel\\appdata\\local\\programs\\python\\python35\\lib\\site-packages\\tensorflow\\contrib\\learn\\python\\learn\\estimators\\dnn.py:660: regression_head (from tensorflow.contrib.learn.python.learn.estimators.head) is deprecated and will be removed in a future version.\n",
      "Instructions for updating:\n",
      "Please switch to tf.contrib.estimator.*_head.\n",
      "WARNING:tensorflow:From c:\\users\\samuel\\appdata\\local\\programs\\python\\python35\\lib\\site-packages\\tensorflow\\contrib\\learn\\python\\learn\\estimators\\estimator.py:1180: BaseEstimator.__init__ (from tensorflow.contrib.learn.python.learn.estimators.estimator) is deprecated and will be removed in a future version.\n",
      "Instructions for updating:\n",
      "Please replace uses of any Estimator from tf.contrib.learn with an Estimator from tf.estimator.*\n",
      "WARNING:tensorflow:From c:\\users\\samuel\\appdata\\local\\programs\\python\\python35\\lib\\site-packages\\tensorflow\\contrib\\learn\\python\\learn\\estimators\\estimator.py:428: RunConfig.__init__ (from tensorflow.contrib.learn.python.learn.estimators.run_config) is deprecated and will be removed in a future version.\n",
      "Instructions for updating:\n",
      "When switching to tf.estimator.Estimator, use tf.estimator.RunConfig instead.\n",
      "INFO:tensorflow:Using default config.\n",
      "INFO:tensorflow:Using config: {'_save_checkpoints_secs': 600, '_train_distribute': None, '_save_summary_steps': 100, '_tf_random_seed': None, '_evaluation_master': '', '_keep_checkpoint_max': 5, '_tf_config': gpu_options {\n",
      "  per_process_gpu_memory_fraction: 1.0\n",
      "}\n",
      ", '_protocol': None, '_cluster_spec': <tensorflow.python.training.server_lib.ClusterSpec object at 0x00000217AA713390>, '_task_id': 0, '_save_checkpoints_steps': None, '_master': '', '_device_fn': None, '_model_dir': 'Trained Model\\\\Dry Disp', '_task_type': None, '_eval_distribute': None, '_num_ps_replicas': 0, '_session_config': None, '_keep_checkpoint_every_n_hours': 10000, '_num_worker_replicas': 0, '_is_chief': True, '_log_step_count_steps': 100, '_environment': 'local'}\n"
     ]
    }
   ],
   "source": [
    "label_dimension=120\n",
    "from tensorflow.contrib.learn import DNNRegressor\n",
    "feature_columns = [tf.contrib.layers.real_valued_column(\"\", dimension=label_dimension)]\n",
    "#model_dir=\"D:\\\\Yadu Dropbox\\\\Dropbox\\\\SUTD Masters\\\\Organic Sam\\\\18.06.28 Data Extraction\\\\Trained Model\\\\Dry Disp\"\n",
    "model_dir=\"Trained Model\\\\Dry Disp\"\n",
    "regressor=DNNRegressor(model_dir=model_dir,hidden_units=[100,100],feature_columns=feature_columns,label_dimension=label_dimension)"
   ]
  },
  {
   "cell_type": "code",
   "execution_count": 3,
   "metadata": {},
   "outputs": [],
   "source": [
    "dfp=pd.read_csv(\"oripathdata_jarron10.csv\")\n",
    "Xp=np.array(dfp['CurveData'])\n",
    "label_dimension=120;\n",
    "Xp=Xp.reshape(int(Xp.size/label_dimension),label_dimension)\n",
    "sXp=Xp\n",
    "scaler2=StandardScaler()\n",
    "scaler2.fit(sXp)\n",
    "scaledX2=scaler2.transform(sXp)\n",
    "sXp=scaledX2"
   ]
  },
  {
   "cell_type": "code",
   "execution_count": 4,
   "metadata": {},
   "outputs": [
    {
     "name": "stdout",
     "output_type": "stream",
     "text": [
      "WARNING:tensorflow:From <ipython-input-4-a6011105f4f8>:1: calling DNNRegressor.predict (from tensorflow.contrib.learn.python.learn.estimators.dnn) with as_iterable=False is deprecated and will be removed after 2016-09-15.\n",
      "Instructions for updating:\n",
      "The default behavior of predict() is changing. The default value for\n",
      "as_iterable will change to True, and then the flag will be removed\n",
      "altogether. The behavior of this flag is described below.\n",
      "WARNING:tensorflow:From c:\\users\\samuel\\appdata\\local\\programs\\python\\python35\\lib\\site-packages\\tensorflow\\python\\util\\deprecation.py:553: calling DNNRegressor.predict (from tensorflow.contrib.learn.python.learn.estimators.dnn) with outputs=None is deprecated and will be removed after 2017-03-01.\n",
      "Instructions for updating:\n",
      "Please switch to predict_scores, or set `outputs` argument.\n",
      "WARNING:tensorflow:From c:\\users\\samuel\\appdata\\local\\programs\\python\\python35\\lib\\site-packages\\tensorflow\\contrib\\learn\\python\\learn\\estimators\\dnn.py:743: calling DNNRegressor.predict_scores (from tensorflow.contrib.learn.python.learn.estimators.dnn) with as_iterable=False is deprecated and will be removed after 2016-09-15.\n",
      "Instructions for updating:\n",
      "The default behavior of predict() is changing. The default value for\n",
      "as_iterable will change to True, and then the flag will be removed\n",
      "altogether. The behavior of this flag is described below.\n",
      "WARNING:tensorflow:From c:\\users\\samuel\\appdata\\local\\programs\\python\\python35\\lib\\site-packages\\tensorflow\\contrib\\learn\\python\\learn\\estimators\\dnn.py:779: calling BaseEstimator.predict (from tensorflow.contrib.learn.python.learn.estimators.estimator) with as_iterable is deprecated and will be removed after 2016-12-01.\n",
      "Instructions for updating:\n",
      "Estimator is decoupled from Scikit Learn interface by moving into\n",
      "separate class SKCompat. Arguments x, y and batch_size are only\n",
      "available in the SKCompat class, Estimator will only accept input_fn.\n",
      "Example conversion:\n",
      "  est = Estimator(...) -> est = SKCompat(Estimator(...))\n",
      "WARNING:tensorflow:From c:\\users\\samuel\\appdata\\local\\programs\\python\\python35\\lib\\site-packages\\tensorflow\\contrib\\learn\\python\\learn\\estimators\\dnn.py:779: calling BaseEstimator.predict (from tensorflow.contrib.learn.python.learn.estimators.estimator) with x is deprecated and will be removed after 2016-12-01.\n",
      "Instructions for updating:\n",
      "Estimator is decoupled from Scikit Learn interface by moving into\n",
      "separate class SKCompat. Arguments x, y and batch_size are only\n",
      "available in the SKCompat class, Estimator will only accept input_fn.\n",
      "Example conversion:\n",
      "  est = Estimator(...) -> est = SKCompat(Estimator(...))\n",
      "WARNING:tensorflow:From c:\\users\\samuel\\appdata\\local\\programs\\python\\python35\\lib\\site-packages\\tensorflow\\contrib\\learn\\python\\learn\\estimators\\estimator.py:663: SKCompat.__init__ (from tensorflow.contrib.learn.python.learn.estimators.estimator) is deprecated and will be removed in a future version.\n",
      "Instructions for updating:\n",
      "Please switch to the Estimator interface.\n",
      "WARNING:tensorflow:From c:\\users\\samuel\\appdata\\local\\programs\\python\\python35\\lib\\site-packages\\tensorflow\\contrib\\learn\\python\\learn\\estimators\\estimator.py:143: setup_train_data_feeder (from tensorflow.contrib.learn.python.learn.learn_io.data_feeder) is deprecated and will be removed in a future version.\n",
      "Instructions for updating:\n",
      "Please use tensorflow/transform or tf.data.\n",
      "WARNING:tensorflow:From c:\\users\\samuel\\appdata\\local\\programs\\python\\python35\\lib\\site-packages\\tensorflow\\contrib\\learn\\python\\learn\\learn_io\\data_feeder.py:100: extract_pandas_data (from tensorflow.contrib.learn.python.learn.learn_io.pandas_io) is deprecated and will be removed in a future version.\n",
      "Instructions for updating:\n",
      "Please access pandas data directly.\n",
      "WARNING:tensorflow:From c:\\users\\samuel\\appdata\\local\\programs\\python\\python35\\lib\\site-packages\\tensorflow\\contrib\\learn\\python\\learn\\learn_io\\data_feeder.py:159: DataFeeder.__init__ (from tensorflow.contrib.learn.python.learn.learn_io.data_feeder) is deprecated and will be removed in a future version.\n",
      "Instructions for updating:\n",
      "Please use tensorflow/transform or tf.data.\n",
      "WARNING:tensorflow:From c:\\users\\samuel\\appdata\\local\\programs\\python\\python35\\lib\\site-packages\\tensorflow\\contrib\\learn\\python\\learn\\learn_io\\data_feeder.py:340: check_array (from tensorflow.contrib.learn.python.learn.learn_io.data_feeder) is deprecated and will be removed in a future version.\n",
      "Instructions for updating:\n",
      "Please convert numpy dtypes explicitly.\n",
      "WARNING:tensorflow:float64 is not supported by many models, consider casting to float32.\n",
      "WARNING:tensorflow:From c:\\users\\samuel\\appdata\\local\\programs\\python\\python35\\lib\\site-packages\\tensorflow\\contrib\\learn\\python\\learn\\estimators\\head.py:678: ModelFnOps.__new__ (from tensorflow.contrib.learn.python.learn.estimators.model_fn) is deprecated and will be removed in a future version.\n",
      "Instructions for updating:\n",
      "When switching to tf.estimator.Estimator, use tf.estimator.EstimatorSpec. You can use the `estimator_spec` method to create an equivalent one.\n",
      "INFO:tensorflow:Graph was finalized.\n",
      "INFO:tensorflow:Restoring parameters from Trained Model\\Dry Disp\\model.ckpt-20000\n",
      "INFO:tensorflow:Running local_init_op.\n",
      "INFO:tensorflow:Done running local_init_op.\n"
     ]
    }
   ],
   "source": [
    "disp=regressor.predict(sXp,as_iterable=False)\n",
    "disp=disp.reshape(disp.size)\n",
    "for i in range(2,disp.size,3):\n",
    "    disp[i]=0\n",
    "disp=disp.reshape(int(disp.size/label_dimension),label_dimension)    "
   ]
  },
  {
   "cell_type": "code",
   "execution_count": 5,
   "metadata": {},
   "outputs": [],
   "source": [
    "new_pred=Xp-disp"
   ]
  },
  {
   "cell_type": "code",
   "execution_count": 6,
   "metadata": {},
   "outputs": [
    {
     "name": "stdout",
     "output_type": "stream",
     "text": [
      "<class 'pandas.core.frame.DataFrame'>\n",
      "RangeIndex: 360 entries, 0 to 359\n",
      "Columns: 120 entries, 0 to 119\n",
      "dtypes: float64(120)\n",
      "memory usage: 337.6 KB\n"
     ]
    }
   ],
   "source": [
    "preddisp=pd.DataFrame(new_pred)\n",
    "preddisp.info()\n",
    "preddisp.to_csv('drypreset_jarron10.csv',index=False, header=False)"
   ]
  },
  {
   "cell_type": "code",
   "execution_count": null,
   "metadata": {},
   "outputs": [],
   "source": []
  },
  {
   "cell_type": "markdown",
   "metadata": {},
   "source": [
    "# Heading"
   ]
  },
  {
   "cell_type": "code",
   "execution_count": 18,
   "metadata": {},
   "outputs": [],
   "source": [
    "disp=np.array(df['Disp'])\n",
    "disp=disp.reshape(int(disp.size/3),3)\n",
    "dispdf=pd.DataFrame(disp,columns=['dx','dy','dz'])"
   ]
  },
  {
   "cell_type": "code",
   "execution_count": 21,
   "metadata": {},
   "outputs": [
    {
     "name": "stderr",
     "output_type": "stream",
     "text": [
      "c:\\python\\lib\\site-packages\\matplotlib\\axes\\_axes.py:6462: UserWarning: The 'normed' kwarg is deprecated, and has been replaced by the 'density' kwarg.\n",
      "  warnings.warn(\"The 'normed' kwarg is deprecated, and has been \"\n"
     ]
    },
    {
     "data": {
      "text/plain": [
       "<matplotlib.axes._subplots.AxesSubplot at 0x19ddbdd8>"
      ]
     },
     "execution_count": 21,
     "metadata": {},
     "output_type": "execute_result"
    },
    {
     "data": {
      "image/png": "[encoded data removed]",
      "text/plain": [
       "<Figure size 432x288 with 1 Axes>"
      ]
     },
     "metadata": {},
     "output_type": "display_data"
    }
   ],
   "source": [
    "sns.distplot(dispdf['dy'],norm_hist=True)"
   ]
  },
  {
   "cell_type": "markdown",
   "metadata": {},
   "source": [
    "# Additional Training "
   ]
  },
  {
   "cell_type": "code",
   "execution_count": 27,
   "metadata": {},
   "outputs": [
    {
     "name": "stdout",
     "output_type": "stream",
     "text": [
      "INFO:tensorflow:Using default config.\n",
      "INFO:tensorflow:Using config: {'_cluster_spec': <tensorflow.python.training.server_lib.ClusterSpec object at 0x00000000198A0898>, '_num_ps_replicas': 0, '_save_summary_steps': 100, '_task_type': None, '_save_checkpoints_secs': 600, '_is_chief': True, '_tf_random_seed': None, '_num_worker_replicas': 0, '_task_id': 0, '_log_step_count_steps': 100, '_keep_checkpoint_every_n_hours': 10000, '_model_dir': 'D:\\\\Yadu Dropbox\\\\Dropbox\\\\SUTD Masters\\\\Organic Sam\\\\18.06.28 Data Extraction\\\\Trained Model\\\\Dry Disp', '_evaluation_master': '', '_master': '', '_keep_checkpoint_max': 5, '_save_checkpoints_steps': None, '_environment': 'local', '_tf_config': gpu_options {\n",
      "  per_process_gpu_memory_fraction: 1\n",
      "}\n",
      ", '_session_config': None}\n"
     ]
    }
   ],
   "source": [
    "df=pd.read_csv('0dryR01.csv')\n",
    "df['Disp']=df['ScanData']-df['ExpSrfData']\n",
    "x=np.array(df['CurveData'])\n",
    "y=np.array(df['Disp'])\n",
    "label_dimension=120\n",
    "X=x.reshape(int(x.size/label_dimension),label_dimension)\n",
    "y=y.reshape(int(x.size/label_dimension),label_dimension)\n",
    "from sklearn.model_selection import train_test_split\n",
    "from sklearn.preprocessing import StandardScaler\n",
    "from sklearn import metrics\n",
    "scaler=StandardScaler()\n",
    "scaler.fit(X)\n",
    "scaledX=scaler.transform(X)\n",
    "X=scaledX\n",
    "X_train, X_test, y_train, y_test = train_test_split(X, y, test_size=0.30, random_state=6)\n",
    "from tensorflow.contrib.learn import DNNRegressor\n",
    "feature_columns = [tf.contrib.layers.real_valued_column(\"\", dimension=label_dimension)]\n",
    "model_dir=\"D:\\\\Yadu Dropbox\\\\Dropbox\\\\SUTD Masters\\\\Organic Sam\\\\18.06.28 Data Extraction\\\\Trained Model\\\\Dry Disp\"\n",
    "regressor=DNNRegressor(model_dir=model_dir,hidden_units=[100,100],feature_columns=feature_columns,label_dimension=label_dimension)"
   ]
  },
  {
   "cell_type": "code",
   "execution_count": 28,
   "metadata": {},
   "outputs": [
    {
     "name": "stdout",
     "output_type": "stream",
     "text": [
      "WARNING:tensorflow:From <ipython-input-28-3de9d3107185>:1: calling BaseEstimator.fit (from tensorflow.contrib.learn.python.learn.estimators.estimator) with x is deprecated and will be removed after 2016-12-01.\n",
      "Instructions for updating:\n",
      "Estimator is decoupled from Scikit Learn interface by moving into\n",
      "separate class SKCompat. Arguments x, y and batch_size are only\n",
      "available in the SKCompat class, Estimator will only accept input_fn.\n",
      "Example conversion:\n",
      "  est = Estimator(...) -> est = SKCompat(Estimator(...))\n",
      "WARNING:tensorflow:From <ipython-input-28-3de9d3107185>:1: calling BaseEstimator.fit (from tensorflow.contrib.learn.python.learn.estimators.estimator) with y is deprecated and will be removed after 2016-12-01.\n",
      "Instructions for updating:\n",
      "Estimator is decoupled from Scikit Learn interface by moving into\n",
      "separate class SKCompat. Arguments x, y and batch_size are only\n",
      "available in the SKCompat class, Estimator will only accept input_fn.\n",
      "Example conversion:\n",
      "  est = Estimator(...) -> est = SKCompat(Estimator(...))\n",
      "WARNING:tensorflow:float64 is not supported by many models, consider casting to float32.\n",
      "WARNING:tensorflow:float64 is not supported by many models, consider casting to float32.\n",
      "WARNING:tensorflow:From c:\\python\\lib\\site-packages\\tensorflow\\contrib\\learn\\python\\learn\\estimators\\head.py:642: scalar_summary (from tensorflow.python.ops.logging_ops) is deprecated and will be removed after 2016-11-30.\n",
      "Instructions for updating:\n",
      "Please switch to tf.summary.scalar. Note that tf.summary.scalar uses the node name instead of the tag. This means that TensorFlow will automatically de-duplicate summary names based on the scope they are created in. Also, passing a tensor or list of tags to a scalar summary op is no longer supported.\n",
      "INFO:tensorflow:Create CheckpointSaverHook.\n",
      "INFO:tensorflow:Restoring parameters from D:\\Yadu Dropbox\\Dropbox\\SUTD Masters\\Organic Sam\\18.06.28 Data Extraction\\Trained Model\\Dry Disp\\model.ckpt-20000\n",
      "INFO:tensorflow:Saving checkpoints for 20001 into D:\\Yadu Dropbox\\Dropbox\\SUTD Masters\\Organic Sam\\18.06.28 Data Extraction\\Trained Model\\Dry Disp\\model.ckpt.\n",
      "INFO:tensorflow:loss = 2.10601, step = 20001\n",
      "INFO:tensorflow:global_step/sec: 242.705\n",
      "INFO:tensorflow:loss = 0.033716, step = 20101 (0.412 sec)\n",
      "INFO:tensorflow:global_step/sec: 254.438\n",
      "INFO:tensorflow:loss = 0.0227911, step = 20201 (0.393 sec)\n",
      "INFO:tensorflow:global_step/sec: 240.371\n",
      "INFO:tensorflow:loss = 0.0192935, step = 20301 (0.416 sec)\n",
      "INFO:tensorflow:global_step/sec: 257.055\n",
      "INFO:tensorflow:loss = 0.0173894, step = 20401 (0.389 sec)\n",
      "INFO:tensorflow:global_step/sec: 255.087\n",
      "INFO:tensorflow:loss = 0.0161403, step = 20501 (0.392 sec)\n",
      "INFO:tensorflow:global_step/sec: 263.143\n",
      "INFO:tensorflow:loss = 0.0152387, step = 20601 (0.380 sec)\n",
      "INFO:tensorflow:global_step/sec: 259.725\n",
      "INFO:tensorflow:loss = 0.0145389, step = 20701 (0.385 sec)\n",
      "INFO:tensorflow:global_step/sec: 257.055\n",
      "INFO:tensorflow:loss = 0.0139879, step = 20801 (0.389 sec)\n",
      "INFO:tensorflow:global_step/sec: 264.535\n",
      "INFO:tensorflow:loss = 0.0135372, step = 20901 (0.378 sec)\n",
      "INFO:tensorflow:global_step/sec: 263.837\n",
      "INFO:tensorflow:loss = 0.0131639, step = 21001 (0.379 sec)\n",
      "INFO:tensorflow:global_step/sec: 238.082\n",
      "INFO:tensorflow:loss = 0.012912, step = 21101 (0.420 sec)\n",
      "INFO:tensorflow:global_step/sec: 222.704\n",
      "INFO:tensorflow:loss = 0.0129707, step = 21201 (0.449 sec)\n",
      "INFO:tensorflow:global_step/sec: 265.237\n",
      "INFO:tensorflow:loss = 0.0131251, step = 21301 (0.378 sec)\n",
      "INFO:tensorflow:global_step/sec: 265.237\n",
      "INFO:tensorflow:loss = 0.0127557, step = 21401 (0.376 sec)\n",
      "INFO:tensorflow:global_step/sec: 265.942\n",
      "INFO:tensorflow:loss = 0.0123487, step = 21501 (0.376 sec)\n",
      "INFO:tensorflow:global_step/sec: 248.125\n",
      "INFO:tensorflow:loss = 0.012088, step = 21601 (0.403 sec)\n",
      "INFO:tensorflow:global_step/sec: 265.942\n",
      "INFO:tensorflow:loss = 0.0118826, step = 21701 (0.377 sec)\n",
      "INFO:tensorflow:global_step/sec: 251.875\n",
      "INFO:tensorflow:loss = 0.0117577, step = 21801 (0.396 sec)\n",
      "INFO:tensorflow:global_step/sec: 248.125\n",
      "INFO:tensorflow:loss = 0.0116368, step = 21901 (0.403 sec)\n",
      "INFO:tensorflow:Saving checkpoints for 22000 into D:\\Yadu Dropbox\\Dropbox\\SUTD Masters\\Organic Sam\\18.06.28 Data Extraction\\Trained Model\\Dry Disp\\model.ckpt.\n",
      "INFO:tensorflow:Loss for final step: 0.0115634.\n"
     ]
    },
    {
     "data": {
      "text/plain": [
       "DNNRegressor(params={'dropout': None, 'feature_columns': (_RealValuedColumn(column_name='', dimension=120, default_value=None, dtype=tf.float32, normalizer=None),), 'hidden_units': [100, 100], 'embedding_lr_multipliers': None, 'head': <tensorflow.contrib.learn.python.learn.estimators.head._RegressionHead object at 0x000000001C833470>, 'input_layer_min_slice_size': None, 'gradient_clip_norm': None, 'optimizer': None, 'activation_fn': <function relu at 0x0000000018727EA0>})"
      ]
     },
     "execution_count": 28,
     "metadata": {},
     "output_type": "execute_result"
    }
   ],
   "source": [
    "regressor.fit(X_train,y_train,steps=2000)"
   ]
  },
  {
   "cell_type": "code",
   "execution_count": 29,
   "metadata": {
    "scrolled": true
   },
   "outputs": [
    {
     "name": "stdout",
     "output_type": "stream",
     "text": [
      "WARNING:tensorflow:From c:\\python\\lib\\site-packages\\tensorflow\\contrib\\learn\\python\\learn\\estimators\\dnn.py:689: calling BaseEstimator.evaluate (from tensorflow.contrib.learn.python.learn.estimators.estimator) with x is deprecated and will be removed after 2016-12-01.\n",
      "Instructions for updating:\n",
      "Estimator is decoupled from Scikit Learn interface by moving into\n",
      "separate class SKCompat. Arguments x, y and batch_size are only\n",
      "available in the SKCompat class, Estimator will only accept input_fn.\n",
      "Example conversion:\n",
      "  est = Estimator(...) -> est = SKCompat(Estimator(...))\n",
      "WARNING:tensorflow:From c:\\python\\lib\\site-packages\\tensorflow\\contrib\\learn\\python\\learn\\estimators\\dnn.py:689: calling BaseEstimator.evaluate (from tensorflow.contrib.learn.python.learn.estimators.estimator) with y is deprecated and will be removed after 2016-12-01.\n",
      "Instructions for updating:\n",
      "Estimator is decoupled from Scikit Learn interface by moving into\n",
      "separate class SKCompat. Arguments x, y and batch_size are only\n",
      "available in the SKCompat class, Estimator will only accept input_fn.\n",
      "Example conversion:\n",
      "  est = Estimator(...) -> est = SKCompat(Estimator(...))\n",
      "WARNING:tensorflow:float64 is not supported by many models, consider casting to float32.\n",
      "WARNING:tensorflow:float64 is not supported by many models, consider casting to float32.\n",
      "WARNING:tensorflow:From c:\\python\\lib\\site-packages\\tensorflow\\contrib\\learn\\python\\learn\\estimators\\head.py:642: scalar_summary (from tensorflow.python.ops.logging_ops) is deprecated and will be removed after 2016-11-30.\n",
      "Instructions for updating:\n",
      "Please switch to tf.summary.scalar. Note that tf.summary.scalar uses the node name instead of the tag. This means that TensorFlow will automatically de-duplicate summary names based on the scope they are created in. Also, passing a tensor or list of tags to a scalar summary op is no longer supported.\n",
      "INFO:tensorflow:Starting evaluation at 2018-07-06-03:13:54\n",
      "INFO:tensorflow:Restoring parameters from D:\\Yadu Dropbox\\Dropbox\\SUTD Masters\\Organic Sam\\18.06.28 Data Extraction\\Trained Model\\Dry Disp\\model.ckpt-22000\n",
      "INFO:tensorflow:Evaluation [1/1]\n",
      "INFO:tensorflow:Finished evaluation at 2018-07-06-03:13:54\n",
      "INFO:tensorflow:Saving dict for global step 22000: global_step = 22000, loss = 0.0150382\n",
      "WARNING:tensorflow:From <ipython-input-29-0fdcebd44ae2>:2: calling DNNRegressor.predict (from tensorflow.contrib.learn.python.learn.estimators.dnn) with as_iterable=False is deprecated and will be removed after 2016-09-15.\n",
      "Instructions for updating:\n",
      "The default behavior of predict() is changing. The default value for\n",
      "as_iterable will change to True, and then the flag will be removed\n",
      "altogether. The behavior of this flag is described below.\n",
      "WARNING:tensorflow:From c:\\python\\lib\\site-packages\\tensorflow\\python\\util\\deprecation.py:355: calling DNNRegressor.predict (from tensorflow.contrib.learn.python.learn.estimators.dnn) with outputs=None is deprecated and will be removed after 2017-03-01.\n",
      "Instructions for updating:\n",
      "Please switch to predict_scores, or set `outputs` argument.\n",
      "WARNING:tensorflow:From c:\\python\\lib\\site-packages\\tensorflow\\contrib\\learn\\python\\learn\\estimators\\dnn.py:728: calling DNNRegressor.predict_scores (from tensorflow.contrib.learn.python.learn.estimators.dnn) with as_iterable=False is deprecated and will be removed after 2016-09-15.\n",
      "Instructions for updating:\n",
      "The default behavior of predict() is changing. The default value for\n",
      "as_iterable will change to True, and then the flag will be removed\n",
      "altogether. The behavior of this flag is described below.\n",
      "WARNING:tensorflow:From c:\\python\\lib\\site-packages\\tensorflow\\contrib\\learn\\python\\learn\\estimators\\dnn.py:764: calling BaseEstimator.predict (from tensorflow.contrib.learn.python.learn.estimators.estimator) with x is deprecated and will be removed after 2016-12-01.\n",
      "Instructions for updating:\n",
      "Estimator is decoupled from Scikit Learn interface by moving into\n",
      "separate class SKCompat. Arguments x, y and batch_size are only\n",
      "available in the SKCompat class, Estimator will only accept input_fn.\n",
      "Example conversion:\n",
      "  est = Estimator(...) -> est = SKCompat(Estimator(...))\n",
      "WARNING:tensorflow:From c:\\python\\lib\\site-packages\\tensorflow\\contrib\\learn\\python\\learn\\estimators\\dnn.py:764: calling BaseEstimator.predict (from tensorflow.contrib.learn.python.learn.estimators.estimator) with as_iterable is deprecated and will be removed after 2016-12-01.\n",
      "Instructions for updating:\n",
      "Estimator is decoupled from Scikit Learn interface by moving into\n",
      "separate class SKCompat. Arguments x, y and batch_size are only\n",
      "available in the SKCompat class, Estimator will only accept input_fn.\n",
      "Example conversion:\n",
      "  est = Estimator(...) -> est = SKCompat(Estimator(...))\n",
      "WARNING:tensorflow:float64 is not supported by many models, consider casting to float32.\n",
      "INFO:tensorflow:Restoring parameters from D:\\Yadu Dropbox\\Dropbox\\SUTD Masters\\Organic Sam\\18.06.28 Data Extraction\\Trained Model\\Dry Disp\\model.ckpt-22000\n"
     ]
    },
    {
     "data": {
      "text/plain": [
       "0.12263046000782363"
      ]
     },
     "execution_count": 29,
     "metadata": {},
     "output_type": "execute_result"
    }
   ],
   "source": [
    "regeval=regressor.evaluate(X_test,y_test,steps=1)\n",
    "regpredict=regressor.predict(X_test,as_iterable=False)\n",
    "np.sqrt(metrics.mean_squared_error(y_test,regpredict))"
   ]
  },
  {
   "cell_type": "code",
   "execution_count": null,
   "metadata": {},
   "outputs": [],
   "source": []
  },
  {
   "cell_type": "code",
   "execution_count": null,
   "metadata": {},
   "outputs": [],
   "source": []
  },
  {
   "cell_type": "code",
   "execution_count": null,
   "metadata": {},
   "outputs": [],
   "source": []
  },
  {
   "cell_type": "code",
   "execution_count": 101,
   "metadata": {},
   "outputs": [],
   "source": [
    "g=np.array(df5['ScanData'])"
   ]
  },
  {
   "cell_type": "code",
   "execution_count": 103,
   "metadata": {},
   "outputs": [
    {
     "name": "stdout",
     "output_type": "stream",
     "text": [
      "<class 'pandas.core.frame.DataFrame'>\n",
      "RangeIndex: 360 entries, 0 to 359\n",
      "Columns: 120 entries, 0 to 119\n",
      "dtypes: float64(120)\n",
      "memory usage: 337.6 KB\n"
     ]
    }
   ],
   "source": [
    "g=g.reshape(int(g.size/120),120)\n",
    "preddisp=pd.DataFrame(g)\n",
    "preddisp.info()\n",
    "preddisp.to_csv('disppred.csv',index=False, header=False)"
   ]
  },
  {
   "cell_type": "code",
   "execution_count": 122,
   "metadata": {},
   "outputs": [
    {
     "data": {
      "text/plain": [
       "(43200,)"
      ]
     },
     "execution_count": 122,
     "metadata": {},
     "output_type": "execute_result"
    }
   ],
   "source": [
    "y.shape"
   ]
  },
  {
   "cell_type": "code",
   "execution_count": null,
   "metadata": {},
   "outputs": [],
   "source": []
  }
 ],
 "metadata": {
  "kernelspec": {
   "display_name": "Python 3",
   "language": "python",
   "name": "python3"
  },
  "language_info": {
   "codemirror_mode": {
    "name": "ipython",
    "version": 3
   },
   "file_extension": ".py",
   "mimetype": "text/x-python",
   "name": "python",
   "nbconvert_exporter": "python",
   "pygments_lexer": "ipython3",
   "version": "3.5.2"
  }
 },
 "nbformat": 4,
 "nbformat_minor": 2
}
