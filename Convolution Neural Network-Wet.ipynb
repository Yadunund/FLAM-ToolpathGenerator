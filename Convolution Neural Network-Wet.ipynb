{
 "cells": [
  {
   "cell_type": "code",
   "execution_count": 2,
   "metadata": {},
   "outputs": [],
   "source": [
    "import numpy as np\n",
    "import seaborn as sns\n",
    "import pandas as pd\n",
    "import matplotlib.pyplot as plt\n",
    "import tensorflow as tf\n",
    "%matplotlib inline "
   ]
  },
  {
   "cell_type": "code",
   "execution_count": 3,
   "metadata": {},
   "outputs": [],
   "source": [
    "df1=pd.read_csv('n7wetR01.csv')\n",
    "df2=pd.read_csv('n5wetR01.csv')\n",
    "df3=pd.read_csv('n3wetR01.csv')\n",
    "df4=pd.read_csv('n1wetR01.csv')\n",
    "df5=pd.read_csv('0wetR01.csv')\n",
    "df6=pd.read_csv('p1wetR01.csv')\n",
    "df7=pd.read_csv('p3wetR01.csv')\n",
    "df8=pd.read_csv('p5wetR01.csv')\n",
    "df9=pd.read_csv('p7wetR01.csv')"
   ]
  },
  {
   "cell_type": "code",
   "execution_count": 4,
   "metadata": {},
   "outputs": [],
   "source": [
    "df=pd.concat([df1,df2,df3,df4,df5,df6,df7,df8,df9],axis=0)\n"
   ]
  },
  {
   "cell_type": "code",
   "execution_count": 5,
   "metadata": {},
   "outputs": [
    {
     "data": {
      "text/html": [
       "<div>\n",
       "<style scoped>\n",
       "    .dataframe tbody tr th:only-of-type {\n",
       "        vertical-align: middle;\n",
       "    }\n",
       "\n",
       "    .dataframe tbody tr th {\n",
       "        vertical-align: top;\n",
       "    }\n",
       "\n",
       "    .dataframe thead th {\n",
       "        text-align: right;\n",
       "    }\n",
       "</style>\n",
       "<table border=\"1\" class=\"dataframe\">\n",
       "  <thead>\n",
       "    <tr style=\"text-align: right;\">\n",
       "      <th></th>\n",
       "      <th>CurveData</th>\n",
       "      <th>ExpSrfData</th>\n",
       "      <th>ScanData</th>\n",
       "      <th>Disp</th>\n",
       "    </tr>\n",
       "  </thead>\n",
       "  <tbody>\n",
       "    <tr>\n",
       "      <th>0</th>\n",
       "      <td>94.000000</td>\n",
       "      <td>100.000000</td>\n",
       "      <td>100.004489</td>\n",
       "      <td>0.004489</td>\n",
       "    </tr>\n",
       "    <tr>\n",
       "      <th>1</th>\n",
       "      <td>0.000000</td>\n",
       "      <td>0.000000</td>\n",
       "      <td>0.000000</td>\n",
       "      <td>0.000000</td>\n",
       "    </tr>\n",
       "    <tr>\n",
       "      <th>2</th>\n",
       "      <td>0.000000</td>\n",
       "      <td>0.000000</td>\n",
       "      <td>1.800000</td>\n",
       "      <td>1.800000</td>\n",
       "    </tr>\n",
       "    <tr>\n",
       "      <th>3</th>\n",
       "      <td>93.685168</td>\n",
       "      <td>99.685168</td>\n",
       "      <td>99.987078</td>\n",
       "      <td>0.301911</td>\n",
       "    </tr>\n",
       "    <tr>\n",
       "      <th>4</th>\n",
       "      <td>0.000000</td>\n",
       "      <td>0.000000</td>\n",
       "      <td>0.000000</td>\n",
       "      <td>0.000000</td>\n",
       "    </tr>\n",
       "  </tbody>\n",
       "</table>\n",
       "</div>"
      ],
      "text/plain": [
       "   CurveData  ExpSrfData    ScanData      Disp\n",
       "0  94.000000  100.000000  100.004489  0.004489\n",
       "1   0.000000    0.000000    0.000000  0.000000\n",
       "2   0.000000    0.000000    1.800000  1.800000\n",
       "3  93.685168   99.685168   99.987078  0.301911\n",
       "4   0.000000    0.000000    0.000000  0.000000"
      ]
     },
     "execution_count": 5,
     "metadata": {},
     "output_type": "execute_result"
    }
   ],
   "source": [
    "df['Disp']=df['ScanData']-df['ExpSrfData']\n",
    "#df.to_csv('combined_wetdata.csv',index=False)\n",
    "df.head()"
   ]
  },
  {
   "cell_type": "code",
   "execution_count": 6,
   "metadata": {},
   "outputs": [],
   "source": [
    "disp=np.array(df['Disp'])\n",
    "disp=disp.reshape(int(disp.size/3),3)\n",
    "dispdf=pd.DataFrame(disp,columns=['dx','dy','dz'])"
   ]
  },
  {
   "cell_type": "code",
   "execution_count": 7,
   "metadata": {},
   "outputs": [
    {
     "data": {
      "text/plain": [
       "array([[  4.48932197e-03,   0.00000000e+00,   1.80000000e+00],\n",
       "       [  3.01910595e-01,   0.00000000e+00,   1.89600000e+00],\n",
       "       [  2.60471564e-01,   0.00000000e+00,   1.99200000e+00],\n",
       "       ..., \n",
       "       [  8.95714109e-01,  -1.56347479e-02,   5.35200000e+00],\n",
       "       [ -5.68975019e-01,   9.93149590e-03,   5.44800000e+00],\n",
       "       [ -2.29232821e+00,   4.00127378e-02,   5.54400000e+00]])"
      ]
     },
     "execution_count": 7,
     "metadata": {},
     "output_type": "execute_result"
    }
   ],
   "source": [
    "disp"
   ]
  },
  {
   "cell_type": "code",
   "execution_count": null,
   "metadata": {},
   "outputs": [],
   "source": []
  },
  {
   "cell_type": "code",
   "execution_count": 22,
   "metadata": {},
   "outputs": [
    {
     "name": "stderr",
     "output_type": "stream",
     "text": [
      "c:\\python\\lib\\site-packages\\matplotlib\\axes\\_axes.py:6462: UserWarning: The 'normed' kwarg is deprecated, and has been replaced by the 'density' kwarg.\n",
      "  warnings.warn(\"The 'normed' kwarg is deprecated, and has been \"\n"
     ]
    },
    {
     "data": {
      "text/plain": [
       "<matplotlib.axes._subplots.AxesSubplot at 0x1ce55c88>"
      ]
     },
     "execution_count": 22,
     "metadata": {},
     "output_type": "execute_result"
    },
    {
     "data": {
      "image/png": "[encoded data removed]",
      "text/plain": [
       "<Figure size 432x288 with 1 Axes>"
      ]
     },
     "metadata": {},
     "output_type": "display_data"
    }
   ],
   "source": [
    "sns.distplot(dispdf['dx'])"
   ]
  },
  {
   "cell_type": "code",
   "execution_count": null,
   "metadata": {},
   "outputs": [],
   "source": []
  },
  {
   "cell_type": "code",
   "execution_count": 6,
   "metadata": {},
   "outputs": [],
   "source": [
    "x=np.array(df['CurveData'])"
   ]
  },
  {
   "cell_type": "code",
   "execution_count": 7,
   "metadata": {},
   "outputs": [],
   "source": [
    "y=np.array(df['Disp'])"
   ]
  },
  {
   "cell_type": "code",
   "execution_count": 8,
   "metadata": {},
   "outputs": [],
   "source": [
    "label_dimension=120"
   ]
  },
  {
   "cell_type": "code",
   "execution_count": 9,
   "metadata": {},
   "outputs": [],
   "source": [
    "X=x.reshape(int(x.size/label_dimension),label_dimension)\n",
    "y=y.reshape(int(x.size/label_dimension),label_dimension)"
   ]
  },
  {
   "cell_type": "code",
   "execution_count": 10,
   "metadata": {},
   "outputs": [],
   "source": [
    "from sklearn.model_selection import train_test_split\n",
    "from sklearn.preprocessing import StandardScaler\n",
    "from sklearn import metrics"
   ]
  },
  {
   "cell_type": "code",
   "execution_count": 11,
   "metadata": {},
   "outputs": [],
   "source": [
    "scaler=StandardScaler()\n",
    "scaler.fit(X)\n",
    "scaledX=scaler.transform(X)\n",
    "X=scaledX\n"
   ]
  },
  {
   "cell_type": "code",
   "execution_count": 12,
   "metadata": {},
   "outputs": [],
   "source": [
    "X_train, X_test, y_train, y_test = train_test_split(X, y, test_size=0.30, random_state=6)"
   ]
  },
  {
   "cell_type": "code",
   "execution_count": 13,
   "metadata": {},
   "outputs": [],
   "source": [
    "from tensorflow.contrib.learn import DNNRegressor\n",
    "feature_columns = [tf.contrib.layers.real_valued_column(\"\", dimension=label_dimension)]\n",
    "model_dir=\"D:\\\\Yadu Dropbox\\\\Dropbox\\\\SUTD Masters\\\\Organic Sam\\\\18.06.28 Data Extraction\\\\Trained Model\\\\Wet Disp without p4\""
   ]
  },
  {
   "cell_type": "code",
   "execution_count": 14,
   "metadata": {},
   "outputs": [
    {
     "name": "stdout",
     "output_type": "stream",
     "text": [
      "INFO:tensorflow:Using default config.\n",
      "INFO:tensorflow:Using config: {'_tf_config': gpu_options {\n",
      "  per_process_gpu_memory_fraction: 1\n",
      "}\n",
      ", '_num_ps_replicas': 0, '_master': '', '_save_checkpoints_steps': None, '_keep_checkpoint_max': 5, '_environment': 'local', '_evaluation_master': '', '_tf_random_seed': None, '_task_type': None, '_task_id': 0, '_keep_checkpoint_every_n_hours': 10000, '_model_dir': 'D:\\\\Yadu Dropbox\\\\Dropbox\\\\SUTD Masters\\\\Organic Sam\\\\18.06.28 Data Extraction\\\\Trained Model\\\\Wet Disp without p4', '_session_config': None, '_num_worker_replicas': 0, '_is_chief': True, '_save_checkpoints_secs': 600, '_cluster_spec': <tensorflow.python.training.server_lib.ClusterSpec object at 0x000000001EC9DB38>, '_save_summary_steps': 100, '_log_step_count_steps': 100}\n"
     ]
    }
   ],
   "source": [
    "regressor=DNNRegressor(model_dir=model_dir,hidden_units=[100,100],feature_columns=feature_columns,label_dimension=label_dimension)"
   ]
  },
  {
   "cell_type": "code",
   "execution_count": 15,
   "metadata": {
    "scrolled": true
   },
   "outputs": [
    {
     "name": "stdout",
     "output_type": "stream",
     "text": [
      "WARNING:tensorflow:From <ipython-input-15-34de5496acee>:1: calling BaseEstimator.fit (from tensorflow.contrib.learn.python.learn.estimators.estimator) with x is deprecated and will be removed after 2016-12-01.\n",
      "Instructions for updating:\n",
      "Estimator is decoupled from Scikit Learn interface by moving into\n",
      "separate class SKCompat. Arguments x, y and batch_size are only\n",
      "available in the SKCompat class, Estimator will only accept input_fn.\n",
      "Example conversion:\n",
      "  est = Estimator(...) -> est = SKCompat(Estimator(...))\n",
      "WARNING:tensorflow:From <ipython-input-15-34de5496acee>:1: calling BaseEstimator.fit (from tensorflow.contrib.learn.python.learn.estimators.estimator) with y is deprecated and will be removed after 2016-12-01.\n",
      "Instructions for updating:\n",
      "Estimator is decoupled from Scikit Learn interface by moving into\n",
      "separate class SKCompat. Arguments x, y and batch_size are only\n",
      "available in the SKCompat class, Estimator will only accept input_fn.\n",
      "Example conversion:\n",
      "  est = Estimator(...) -> est = SKCompat(Estimator(...))\n",
      "WARNING:tensorflow:float64 is not supported by many models, consider casting to float32.\n",
      "WARNING:tensorflow:float64 is not supported by many models, consider casting to float32.\n",
      "WARNING:tensorflow:From c:\\python\\lib\\site-packages\\tensorflow\\contrib\\learn\\python\\learn\\estimators\\head.py:642: scalar_summary (from tensorflow.python.ops.logging_ops) is deprecated and will be removed after 2016-11-30.\n",
      "Instructions for updating:\n",
      "Please switch to tf.summary.scalar. Note that tf.summary.scalar uses the node name instead of the tag. This means that TensorFlow will automatically de-duplicate summary names based on the scope they are created in. Also, passing a tensor or list of tags to a scalar summary op is no longer supported.\n",
      "INFO:tensorflow:Create CheckpointSaverHook.\n",
      "INFO:tensorflow:Saving checkpoints for 1 into D:\\Yadu Dropbox\\Dropbox\\SUTD Masters\\Organic Sam\\18.06.28 Data Extraction\\Trained Model\\Wet Disp without p4\\model.ckpt.\n",
      "INFO:tensorflow:step = 1, loss = 11.1536\n",
      "INFO:tensorflow:global_step/sec: 41.8386\n",
      "INFO:tensorflow:step = 101, loss = 0.720844 (2.391 sec)\n",
      "INFO:tensorflow:global_step/sec: 42.587\n",
      "INFO:tensorflow:step = 201, loss = 0.697306 (2.347 sec)\n",
      "INFO:tensorflow:global_step/sec: 42.6961\n",
      "INFO:tensorflow:step = 301, loss = 0.680236 (2.342 sec)\n",
      "INFO:tensorflow:global_step/sec: 43.4758\n",
      "INFO:tensorflow:step = 401, loss = 0.660117 (2.300 sec)\n",
      "INFO:tensorflow:global_step/sec: 44.1866\n",
      "INFO:tensorflow:step = 501, loss = 0.629343 (2.263 sec)\n",
      "INFO:tensorflow:global_step/sec: 43.9922\n",
      "INFO:tensorflow:step = 601, loss = 0.632615 (2.274 sec)\n",
      "INFO:tensorflow:global_step/sec: 42.4785\n",
      "INFO:tensorflow:step = 701, loss = 0.59977 (2.354 sec)\n",
      "INFO:tensorflow:global_step/sec: 42.9529\n",
      "INFO:tensorflow:step = 801, loss = 0.547168 (2.328 sec)\n",
      "INFO:tensorflow:global_step/sec: 43.7612\n",
      "INFO:tensorflow:step = 901, loss = 0.517495 (2.285 sec)\n",
      "INFO:tensorflow:global_step/sec: 43.6275\n",
      "INFO:tensorflow:step = 1001, loss = 0.480968 (2.292 sec)\n",
      "INFO:tensorflow:global_step/sec: 43.3815\n",
      "INFO:tensorflow:step = 1101, loss = 0.430267 (2.305 sec)\n",
      "INFO:tensorflow:global_step/sec: 43.3251\n",
      "INFO:tensorflow:step = 1201, loss = 0.419489 (2.307 sec)\n",
      "INFO:tensorflow:global_step/sec: 40.8975\n",
      "INFO:tensorflow:step = 1301, loss = 0.415211 (2.445 sec)\n",
      "INFO:tensorflow:global_step/sec: 42.7143\n",
      "INFO:tensorflow:step = 1401, loss = 0.375292 (2.341 sec)\n",
      "INFO:tensorflow:global_step/sec: 43.9922\n",
      "INFO:tensorflow:step = 1501, loss = 0.373767 (2.273 sec)\n",
      "INFO:tensorflow:global_step/sec: 42.7875\n",
      "INFO:tensorflow:step = 1601, loss = 0.357211 (2.337 sec)\n",
      "INFO:tensorflow:global_step/sec: 40.9981\n",
      "INFO:tensorflow:step = 1701, loss = 0.33497 (2.439 sec)\n",
      "INFO:tensorflow:global_step/sec: 40.5656\n",
      "INFO:tensorflow:step = 1801, loss = 0.323525 (2.465 sec)\n",
      "INFO:tensorflow:global_step/sec: 41.9439\n",
      "INFO:tensorflow:step = 1901, loss = 0.328994 (2.385 sec)\n",
      "INFO:tensorflow:global_step/sec: 41.7513\n",
      "INFO:tensorflow:step = 2001, loss = 0.327538 (2.395 sec)\n",
      "INFO:tensorflow:global_step/sec: 41.4398\n",
      "INFO:tensorflow:step = 2101, loss = 0.306869 (2.412 sec)\n",
      "INFO:tensorflow:global_step/sec: 41.5777\n",
      "INFO:tensorflow:step = 2201, loss = 0.312571 (2.405 sec)\n",
      "INFO:tensorflow:global_step/sec: 42.4604\n",
      "INFO:tensorflow:step = 2301, loss = 0.300091 (2.356 sec)\n",
      "INFO:tensorflow:global_step/sec: 42.9713\n",
      "INFO:tensorflow:step = 2401, loss = 0.293231 (2.326 sec)\n",
      "INFO:tensorflow:global_step/sec: 43.9922\n",
      "INFO:tensorflow:step = 2501, loss = 0.294661 (2.274 sec)\n",
      "INFO:tensorflow:global_step/sec: 43.7038\n",
      "INFO:tensorflow:step = 2601, loss = 0.286247 (2.287 sec)\n",
      "INFO:tensorflow:global_step/sec: 43.5705\n",
      "INFO:tensorflow:step = 2701, loss = 0.30496 (2.296 sec)\n",
      "INFO:tensorflow:global_step/sec: 42.8424\n",
      "INFO:tensorflow:step = 2801, loss = 0.283731 (2.334 sec)\n",
      "INFO:tensorflow:global_step/sec: 43.2501\n",
      "INFO:tensorflow:step = 2901, loss = 0.282488 (2.312 sec)\n",
      "INFO:tensorflow:global_step/sec: 43.9149\n",
      "INFO:tensorflow:step = 3001, loss = 0.290165 (2.276 sec)\n",
      "INFO:tensorflow:global_step/sec: 44.6403\n",
      "INFO:tensorflow:step = 3101, loss = 0.27327 (2.241 sec)\n",
      "INFO:tensorflow:global_step/sec: 44.7202\n",
      "INFO:tensorflow:step = 3201, loss = 0.270873 (2.236 sec)\n",
      "INFO:tensorflow:global_step/sec: 42.9898\n",
      "INFO:tensorflow:step = 3301, loss = 0.280989 (2.326 sec)\n",
      "INFO:tensorflow:global_step/sec: 43.7803\n",
      "INFO:tensorflow:step = 3401, loss = 0.262957 (2.284 sec)\n",
      "INFO:tensorflow:global_step/sec: 44.363\n",
      "INFO:tensorflow:step = 3501, loss = 0.265934 (2.253 sec)\n",
      "INFO:tensorflow:global_step/sec: 44.363\n",
      "INFO:tensorflow:step = 3601, loss = 0.269772 (2.254 sec)\n",
      "INFO:tensorflow:global_step/sec: 44.4222\n",
      "INFO:tensorflow:step = 3701, loss = 0.256728 (2.251 sec)\n",
      "INFO:tensorflow:global_step/sec: 44.2453\n",
      "INFO:tensorflow:step = 3801, loss = 0.257947 (2.261 sec)\n",
      "INFO:tensorflow:global_step/sec: 44.3434\n",
      "INFO:tensorflow:step = 3901, loss = 0.258287 (2.254 sec)\n",
      "INFO:tensorflow:global_step/sec: 44.8003\n",
      "INFO:tensorflow:step = 4001, loss = 0.248246 (2.232 sec)\n",
      "INFO:tensorflow:global_step/sec: 44.7402\n",
      "INFO:tensorflow:step = 4101, loss = 0.247803 (2.235 sec)\n",
      "INFO:tensorflow:global_step/sec: 44.8606\n",
      "INFO:tensorflow:step = 4201, loss = 0.241035 (2.229 sec)\n",
      "INFO:tensorflow:global_step/sec: 44.9009\n",
      "INFO:tensorflow:step = 4301, loss = 0.293191 (2.228 sec)\n",
      "INFO:tensorflow:global_step/sec: 44.9615\n",
      "INFO:tensorflow:step = 4401, loss = 0.243024 (2.224 sec)\n",
      "INFO:tensorflow:global_step/sec: 44.9009\n",
      "INFO:tensorflow:step = 4501, loss = 0.243533 (2.226 sec)\n",
      "INFO:tensorflow:global_step/sec: 44.521\n",
      "INFO:tensorflow:step = 4601, loss = 0.239799 (2.247 sec)\n",
      "INFO:tensorflow:global_step/sec: 42.8608\n",
      "INFO:tensorflow:step = 4701, loss = 0.241858 (2.333 sec)\n",
      "INFO:tensorflow:global_step/sec: 40.7143\n",
      "INFO:tensorflow:step = 4801, loss = 0.237727 (2.456 sec)\n",
      "INFO:tensorflow:global_step/sec: 40.864\n",
      "INFO:tensorflow:step = 4901, loss = 0.237725 (2.447 sec)\n",
      "INFO:tensorflow:global_step/sec: 40.5986\n",
      "INFO:tensorflow:step = 5001, loss = 0.233518 (2.463 sec)\n",
      "INFO:tensorflow:global_step/sec: 42.4064\n",
      "INFO:tensorflow:step = 5101, loss = 0.230648 (2.379 sec)\n",
      "INFO:tensorflow:global_step/sec: 42.3705\n",
      "INFO:tensorflow:step = 5201, loss = 0.226371 (2.338 sec)\n",
      "INFO:tensorflow:global_step/sec: 42.3525\n",
      "INFO:tensorflow:step = 5301, loss = 0.228362 (2.361 sec)\n",
      "INFO:tensorflow:global_step/sec: 44.1671\n",
      "INFO:tensorflow:step = 5401, loss = 0.227799 (2.264 sec)\n",
      "INFO:tensorflow:global_step/sec: 42.3705\n",
      "INFO:tensorflow:step = 5501, loss = 0.226269 (2.361 sec)\n",
      "INFO:tensorflow:global_step/sec: 44.0116\n",
      "INFO:tensorflow:step = 5601, loss = 0.226437 (2.271 sec)\n",
      "INFO:tensorflow:global_step/sec: 43.6085\n",
      "INFO:tensorflow:step = 5701, loss = 0.228413 (2.293 sec)\n",
      "INFO:tensorflow:global_step/sec: 44.0503\n",
      "INFO:tensorflow:step = 5801, loss = 0.224789 (2.271 sec)\n",
      "INFO:tensorflow:global_step/sec: 44.2453\n",
      "INFO:tensorflow:step = 5901, loss = 0.235438 (2.259 sec)\n",
      "INFO:tensorflow:global_step/sec: 43.8571\n",
      "INFO:tensorflow:step = 6001, loss = 0.220093 (2.281 sec)\n",
      "INFO:tensorflow:global_step/sec: 44.0892\n",
      "INFO:tensorflow:step = 6101, loss = 0.217567 (2.268 sec)\n",
      "INFO:tensorflow:global_step/sec: 44.0503\n",
      "INFO:tensorflow:step = 6201, loss = 0.229579 (2.269 sec)\n",
      "INFO:tensorflow:global_step/sec: 44.4222\n",
      "INFO:tensorflow:step = 6301, loss = 0.215878 (2.251 sec)\n",
      "INFO:tensorflow:global_step/sec: 43.7995\n"
     ]
    },
    {
     "name": "stdout",
     "output_type": "stream",
     "text": [
      "INFO:tensorflow:step = 6401, loss = 0.216748 (2.284 sec)\n",
      "INFO:tensorflow:global_step/sec: 43.3627\n",
      "INFO:tensorflow:step = 6501, loss = 0.211949 (2.306 sec)\n",
      "INFO:tensorflow:global_step/sec: 43.2688\n",
      "INFO:tensorflow:step = 6601, loss = 0.216209 (2.311 sec)\n",
      "INFO:tensorflow:global_step/sec: 42.587\n",
      "INFO:tensorflow:step = 6701, loss = 0.226915 (2.347 sec)\n",
      "INFO:tensorflow:global_step/sec: 43.5326\n",
      "INFO:tensorflow:step = 6801, loss = 0.210464 (2.298 sec)\n",
      "INFO:tensorflow:global_step/sec: 44.0503\n",
      "INFO:tensorflow:step = 6901, loss = 0.213311 (2.270 sec)\n",
      "INFO:tensorflow:global_step/sec: 43.1382\n",
      "INFO:tensorflow:step = 7001, loss = 0.207178 (2.317 sec)\n",
      "INFO:tensorflow:global_step/sec: 42.2809\n",
      "INFO:tensorflow:step = 7101, loss = 0.208784 (2.366 sec)\n",
      "INFO:tensorflow:global_step/sec: 41.5259\n",
      "INFO:tensorflow:step = 7201, loss = 0.206876 (2.408 sec)\n",
      "INFO:tensorflow:global_step/sec: 39.9498\n",
      "INFO:tensorflow:step = 7301, loss = 0.20739 (2.502 sec)\n",
      "INFO:tensorflow:global_step/sec: 41.9263\n",
      "INFO:tensorflow:step = 7401, loss = 0.207672 (2.385 sec)\n",
      "INFO:tensorflow:global_step/sec: 41.5431\n",
      "INFO:tensorflow:step = 7501, loss = 0.206128 (2.408 sec)\n",
      "INFO:tensorflow:global_step/sec: 39.8066\n",
      "INFO:tensorflow:step = 7601, loss = 0.206718 (2.512 sec)\n",
      "INFO:tensorflow:global_step/sec: 40.4671\n",
      "INFO:tensorflow:step = 7701, loss = 0.203175 (2.470 sec)\n",
      "INFO:tensorflow:global_step/sec: 40.0618\n",
      "INFO:tensorflow:step = 7801, loss = 0.20286 (2.497 sec)\n",
      "INFO:tensorflow:global_step/sec: 43.6656\n",
      "INFO:tensorflow:step = 7901, loss = 0.202825 (2.290 sec)\n",
      "INFO:tensorflow:global_step/sec: 42.4965\n",
      "INFO:tensorflow:step = 8001, loss = 0.201811 (2.352 sec)\n",
      "INFO:tensorflow:global_step/sec: 42.5689\n",
      "INFO:tensorflow:step = 8101, loss = 0.200032 (2.349 sec)\n",
      "INFO:tensorflow:global_step/sec: 42.7326\n",
      "INFO:tensorflow:step = 8201, loss = 0.200169 (2.341 sec)\n",
      "INFO:tensorflow:global_step/sec: 43.2688\n",
      "INFO:tensorflow:step = 8301, loss = 0.199551 (2.310 sec)\n",
      "INFO:tensorflow:global_step/sec: 42.5146\n",
      "INFO:tensorflow:step = 8401, loss = 0.198494 (2.352 sec)\n",
      "INFO:tensorflow:global_step/sec: 43.1382\n",
      "INFO:tensorflow:step = 8501, loss = 0.198877 (2.318 sec)\n",
      "INFO:tensorflow:global_step/sec: 44.6403\n",
      "INFO:tensorflow:step = 8601, loss = 0.192144 (2.241 sec)\n",
      "INFO:tensorflow:global_step/sec: 42.9898\n",
      "INFO:tensorflow:step = 8701, loss = 0.199989 (2.326 sec)\n",
      "INFO:tensorflow:global_step/sec: 43.8379\n",
      "INFO:tensorflow:step = 8801, loss = 0.190672 (2.281 sec)\n",
      "INFO:tensorflow:global_step/sec: 44.5012\n",
      "INFO:tensorflow:step = 8901, loss = 0.194931 (2.247 sec)\n",
      "INFO:tensorflow:global_step/sec: 44.363\n",
      "INFO:tensorflow:step = 9001, loss = 0.191127 (2.254 sec)\n",
      "INFO:tensorflow:global_step/sec: 43.5515\n",
      "INFO:tensorflow:step = 9101, loss = 0.193045 (2.295 sec)\n",
      "INFO:tensorflow:global_step/sec: 42.4604\n",
      "INFO:tensorflow:step = 9201, loss = 0.193642 (2.356 sec)\n",
      "INFO:tensorflow:global_step/sec: 41.8036\n",
      "INFO:tensorflow:step = 9301, loss = 0.191743 (2.391 sec)\n",
      "INFO:tensorflow:global_step/sec: 37.1726\n",
      "INFO:tensorflow:step = 9401, loss = 0.193449 (2.691 sec)\n",
      "INFO:tensorflow:global_step/sec: 40.8307\n",
      "INFO:tensorflow:step = 9501, loss = 0.191564 (2.449 sec)\n",
      "INFO:tensorflow:global_step/sec: 40.6977\n",
      "INFO:tensorflow:step = 9601, loss = 0.186936 (2.458 sec)\n",
      "INFO:tensorflow:global_step/sec: 37.7765\n",
      "INFO:tensorflow:step = 9701, loss = 0.18826 (2.646 sec)\n",
      "INFO:tensorflow:global_step/sec: 40.304\n",
      "INFO:tensorflow:step = 9801, loss = 0.191901 (2.482 sec)\n",
      "INFO:tensorflow:global_step/sec: 39.4766\n",
      "INFO:tensorflow:step = 9901, loss = 0.186518 (2.532 sec)\n",
      "INFO:tensorflow:global_step/sec: 40.3365\n",
      "INFO:tensorflow:step = 10001, loss = 0.184461 (2.479 sec)\n",
      "INFO:tensorflow:global_step/sec: 42.3167\n",
      "INFO:tensorflow:step = 10101, loss = 0.187675 (2.363 sec)\n",
      "INFO:tensorflow:global_step/sec: 39.4144\n",
      "INFO:tensorflow:step = 10201, loss = 0.187214 (2.558 sec)\n",
      "INFO:tensorflow:global_step/sec: 38.6526\n",
      "INFO:tensorflow:step = 10301, loss = 0.18786 (2.566 sec)\n",
      "INFO:tensorflow:global_step/sec: 40.5656\n",
      "INFO:tensorflow:step = 10401, loss = 0.1842 (2.464 sec)\n",
      "INFO:tensorflow:global_step/sec: 41.2688\n",
      "INFO:tensorflow:step = 10501, loss = 0.180942 (2.424 sec)\n",
      "INFO:tensorflow:global_step/sec: 41.7687\n",
      "INFO:tensorflow:step = 10601, loss = 0.182694 (2.394 sec)\n",
      "INFO:tensorflow:global_step/sec: 41.699\n",
      "INFO:tensorflow:step = 10701, loss = 0.181983 (2.398 sec)\n",
      "INFO:tensorflow:global_step/sec: 40.6977\n",
      "INFO:tensorflow:step = 10801, loss = 0.178567 (2.456 sec)\n",
      "INFO:tensorflow:global_step/sec: 41.6469\n",
      "INFO:tensorflow:step = 10901, loss = 0.17273 (2.402 sec)\n",
      "INFO:tensorflow:global_step/sec: 43.0824\n",
      "INFO:tensorflow:step = 11001, loss = 0.176142 (2.321 sec)\n",
      "INFO:tensorflow:global_step/sec: 41.8737\n",
      "INFO:tensorflow:step = 11101, loss = 0.174816 (2.388 sec)\n",
      "INFO:tensorflow:global_step/sec: 41.9968\n",
      "INFO:tensorflow:step = 11201, loss = 0.173842 (2.381 sec)\n",
      "INFO:tensorflow:global_step/sec: 44.0698\n",
      "INFO:tensorflow:step = 11301, loss = 0.172878 (2.268 sec)\n",
      "INFO:tensorflow:global_step/sec: 44.3827\n",
      "INFO:tensorflow:step = 11401, loss = 0.170872 (2.254 sec)\n",
      "INFO:tensorflow:global_step/sec: 44.3237\n",
      "INFO:tensorflow:step = 11501, loss = 0.175843 (2.256 sec)\n",
      "INFO:tensorflow:global_step/sec: 44.5211\n",
      "INFO:tensorflow:step = 11601, loss = 0.181191 (2.246 sec)\n",
      "INFO:tensorflow:global_step/sec: 44.3237\n",
      "INFO:tensorflow:step = 11701, loss = 0.175134 (2.255 sec)\n",
      "INFO:tensorflow:global_step/sec: 44.3041\n",
      "INFO:tensorflow:step = 11801, loss = 0.171317 (2.257 sec)\n",
      "INFO:tensorflow:global_step/sec: 44.0892\n",
      "INFO:tensorflow:step = 11901, loss = 0.169987 (2.269 sec)\n",
      "INFO:tensorflow:global_step/sec: 44.0892\n",
      "INFO:tensorflow:step = 12001, loss = 0.173863 (2.267 sec)\n",
      "INFO:tensorflow:global_step/sec: 44.4024\n",
      "INFO:tensorflow:step = 12101, loss = 0.172418 (2.252 sec)\n",
      "INFO:tensorflow:global_step/sec: 43.4569\n",
      "INFO:tensorflow:step = 12201, loss = 0.164911 (2.302 sec)\n",
      "INFO:tensorflow:global_step/sec: 43.5136\n",
      "INFO:tensorflow:step = 12301, loss = 0.168027 (2.297 sec)\n",
      "INFO:tensorflow:global_step/sec: 43.7038\n",
      "INFO:tensorflow:step = 12401, loss = 0.174361 (2.289 sec)\n",
      "INFO:tensorflow:global_step/sec: 43.2314\n",
      "INFO:tensorflow:step = 12501, loss = 0.168122 (2.312 sec)\n",
      "INFO:tensorflow:global_step/sec: 43.8764\n",
      "INFO:tensorflow:step = 12601, loss = 0.160931 (2.280 sec)\n",
      "INFO:tensorflow:global_step/sec: 43.6466\n",
      "INFO:tensorflow:step = 12701, loss = 0.165853 (2.291 sec)\n",
      "INFO:tensorflow:global_step/sec: 43.1754\n",
      "INFO:tensorflow:step = 12801, loss = 0.159813 (2.315 sec)\n",
      "INFO:tensorflow:global_step/sec: 43.5326\n",
      "INFO:tensorflow:step = 12901, loss = 0.164905 (2.298 sec)\n",
      "INFO:tensorflow:global_step/sec: 44.363\n",
      "INFO:tensorflow:step = 13001, loss = 0.154389 (2.254 sec)\n",
      "INFO:tensorflow:global_step/sec: 44.3827\n",
      "INFO:tensorflow:step = 13101, loss = 0.158862 (2.253 sec)\n",
      "INFO:tensorflow:global_step/sec: 44.2453\n",
      "INFO:tensorflow:step = 13201, loss = 0.164643 (2.260 sec)\n",
      "INFO:tensorflow:global_step/sec: 44.2844\n",
      "INFO:tensorflow:step = 13301, loss = 0.166395 (2.257 sec)\n",
      "INFO:tensorflow:global_step/sec: 44.3237\n",
      "INFO:tensorflow:step = 13401, loss = 0.159418 (2.257 sec)\n",
      "INFO:tensorflow:global_step/sec: 43.2127\n",
      "INFO:tensorflow:step = 13501, loss = 0.14971 (2.314 sec)\n",
      "INFO:tensorflow:global_step/sec: 43.6275\n",
      "INFO:tensorflow:step = 13601, loss = 0.160421 (2.291 sec)\n",
      "INFO:tensorflow:global_step/sec: 43.2127\n",
      "INFO:tensorflow:step = 13701, loss = 0.156392 (2.314 sec)\n",
      "INFO:tensorflow:global_step/sec: 43.3439\n",
      "INFO:tensorflow:step = 13801, loss = 0.153381 (2.307 sec)\n",
      "INFO:tensorflow:global_step/sec: 43.7612\n",
      "INFO:tensorflow:step = 13901, loss = 0.145869 (2.285 sec)\n",
      "INFO:tensorflow:global_step/sec: 44.0116\n",
      "INFO:tensorflow:step = 14001, loss = 0.154959 (2.273 sec)\n",
      "INFO:tensorflow:global_step/sec: 43.5705\n",
      "INFO:tensorflow:step = 14101, loss = 0.146779 (2.294 sec)\n",
      "INFO:tensorflow:global_step/sec: 40.223\n",
      "INFO:tensorflow:step = 14201, loss = 0.158316 (2.487 sec)\n",
      "INFO:tensorflow:global_step/sec: 41.2518\n",
      "INFO:tensorflow:step = 14301, loss = 0.14395 (2.424 sec)\n",
      "INFO:tensorflow:global_step/sec: 42.263\n",
      "INFO:tensorflow:step = 14401, loss = 0.150394 (2.366 sec)\n",
      "INFO:tensorflow:global_step/sec: 42.4424\n",
      "INFO:tensorflow:step = 14501, loss = 0.154522 (2.356 sec)\n",
      "INFO:tensorflow:global_step/sec: 40.8473\n",
      "INFO:tensorflow:step = 14601, loss = 0.142386 (2.448 sec)\n",
      "INFO:tensorflow:global_step/sec: 39.886\n",
      "INFO:tensorflow:step = 14701, loss = 0.164708 (2.507 sec)\n"
     ]
    },
    {
     "name": "stdout",
     "output_type": "stream",
     "text": [
      "INFO:tensorflow:global_step/sec: 40.8807\n",
      "INFO:tensorflow:step = 14801, loss = 0.140723 (2.446 sec)\n",
      "INFO:tensorflow:global_step/sec: 43.1382\n",
      "INFO:tensorflow:step = 14901, loss = 0.155129 (2.317 sec)\n",
      "INFO:tensorflow:global_step/sec: 43.8379\n",
      "INFO:tensorflow:step = 15001, loss = 0.145472 (2.282 sec)\n",
      "INFO:tensorflow:global_step/sec: 41.6643\n",
      "INFO:tensorflow:step = 15101, loss = 0.141446 (2.400 sec)\n",
      "INFO:tensorflow:global_step/sec: 42.9898\n",
      "INFO:tensorflow:step = 15201, loss = 0.168928 (2.326 sec)\n",
      "INFO:tensorflow:global_step/sec: 42.9713\n",
      "INFO:tensorflow:step = 15301, loss = 0.137463 (2.328 sec)\n",
      "INFO:tensorflow:global_step/sec: 44.4222\n",
      "INFO:tensorflow:step = 15401, loss = 0.143072 (2.287 sec)\n",
      "INFO:tensorflow:global_step/sec: 42.0851\n",
      "INFO:tensorflow:step = 15501, loss = 0.144374 (2.338 sec)\n",
      "INFO:tensorflow:global_step/sec: 43.9342\n",
      "INFO:tensorflow:step = 15601, loss = 0.150842 (2.277 sec)\n",
      "INFO:tensorflow:global_step/sec: 44.363\n",
      "INFO:tensorflow:step = 15701, loss = 0.136723 (2.254 sec)\n",
      "INFO:tensorflow:global_step/sec: 44.4617\n",
      "INFO:tensorflow:step = 15801, loss = 0.14398 (2.249 sec)\n",
      "INFO:tensorflow:global_step/sec: 44.5211\n",
      "INFO:tensorflow:step = 15901, loss = 0.144028 (2.246 sec)\n",
      "INFO:tensorflow:global_step/sec: 44.5806\n",
      "INFO:tensorflow:step = 16001, loss = 0.13526 (2.243 sec)\n",
      "INFO:tensorflow:global_step/sec: 44.5607\n",
      "INFO:tensorflow:step = 16101, loss = 0.135105 (2.244 sec)\n",
      "INFO:tensorflow:global_step/sec: 44.5211\n",
      "INFO:tensorflow:step = 16201, loss = 0.133243 (2.246 sec)\n",
      "INFO:tensorflow:global_step/sec: 44.5607\n",
      "INFO:tensorflow:step = 16301, loss = 0.137217 (2.244 sec)\n",
      "INFO:tensorflow:global_step/sec: 43.4758\n",
      "INFO:tensorflow:step = 16401, loss = 0.136779 (2.299 sec)\n",
      "INFO:tensorflow:global_step/sec: 44.5806\n",
      "INFO:tensorflow:step = 16501, loss = 0.137703 (2.244 sec)\n",
      "INFO:tensorflow:global_step/sec: 44.6005\n",
      "INFO:tensorflow:step = 16601, loss = 0.131953 (2.242 sec)\n",
      "INFO:tensorflow:global_step/sec: 44.5806\n",
      "INFO:tensorflow:step = 16701, loss = 0.153254 (2.243 sec)\n",
      "INFO:tensorflow:global_step/sec: 44.4814\n",
      "INFO:tensorflow:step = 16801, loss = 0.142643 (2.248 sec)\n",
      "INFO:tensorflow:global_step/sec: 43.0453\n",
      "INFO:tensorflow:step = 16901, loss = 0.134433 (2.323 sec)\n",
      "INFO:tensorflow:global_step/sec: 41.699\n",
      "INFO:tensorflow:step = 17001, loss = 0.131918 (2.397 sec)\n",
      "INFO:tensorflow:global_step/sec: 42.1917\n",
      "INFO:tensorflow:step = 17101, loss = 0.132228 (2.370 sec)\n",
      "INFO:tensorflow:global_step/sec: 42.916\n",
      "INFO:tensorflow:step = 17201, loss = 0.16011 (2.331 sec)\n",
      "INFO:tensorflow:global_step/sec: 40.6316\n",
      "INFO:tensorflow:step = 17301, loss = 0.130955 (2.461 sec)\n",
      "INFO:tensorflow:global_step/sec: 41.5431\n",
      "INFO:tensorflow:step = 17401, loss = 0.12917 (2.407 sec)\n",
      "INFO:tensorflow:global_step/sec: 40.3528\n",
      "INFO:tensorflow:step = 17501, loss = 0.148446 (2.478 sec)\n",
      "INFO:tensorflow:global_step/sec: 40.3203\n",
      "INFO:tensorflow:step = 17601, loss = 0.127144 (2.480 sec)\n",
      "INFO:tensorflow:global_step/sec: 39.9338\n",
      "INFO:tensorflow:step = 17701, loss = 0.136328 (2.503 sec)\n",
      "INFO:tensorflow:global_step/sec: 42.3167\n",
      "INFO:tensorflow:step = 17801, loss = 0.125038 (2.364 sec)\n",
      "INFO:tensorflow:global_step/sec: 41.8737\n",
      "INFO:tensorflow:step = 17901, loss = 0.12486 (2.387 sec)\n",
      "INFO:tensorflow:global_step/sec: 43.101\n",
      "INFO:tensorflow:step = 18001, loss = 0.12393 (2.320 sec)\n",
      "INFO:tensorflow:global_step/sec: 43.1754\n",
      "INFO:tensorflow:step = 18101, loss = 0.128259 (2.316 sec)\n",
      "INFO:tensorflow:global_step/sec: 41.5086\n",
      "INFO:tensorflow:step = 18201, loss = 0.120511 (2.410 sec)\n",
      "INFO:tensorflow:global_step/sec: 44.2453\n",
      "INFO:tensorflow:step = 18301, loss = 0.139749 (2.259 sec)\n",
      "INFO:tensorflow:global_step/sec: 44.2061\n",
      "INFO:tensorflow:step = 18401, loss = 0.121731 (2.263 sec)\n",
      "INFO:tensorflow:global_step/sec: 42.8976\n",
      "INFO:tensorflow:step = 18501, loss = 0.125255 (2.331 sec)\n",
      "INFO:tensorflow:global_step/sec: 43.5515\n",
      "INFO:tensorflow:step = 18601, loss = 0.123409 (2.295 sec)\n",
      "INFO:tensorflow:global_step/sec: 40.0618\n",
      "INFO:tensorflow:step = 18701, loss = 0.127783 (2.496 sec)\n",
      "INFO:tensorflow:global_step/sec: 41.5431\n",
      "INFO:tensorflow:step = 18801, loss = 0.117821 (2.408 sec)\n",
      "INFO:tensorflow:global_step/sec: 43.1568\n",
      "INFO:tensorflow:step = 18901, loss = 0.119847 (2.317 sec)\n",
      "INFO:tensorflow:global_step/sec: 42.4785\n",
      "INFO:tensorflow:step = 19001, loss = 0.132825 (2.354 sec)\n",
      "INFO:tensorflow:global_step/sec: 41.9968\n",
      "INFO:tensorflow:step = 19101, loss = 0.12027 (2.380 sec)\n",
      "INFO:tensorflow:global_step/sec: 43.6275\n",
      "INFO:tensorflow:step = 19201, loss = 0.115027 (2.293 sec)\n",
      "INFO:tensorflow:global_step/sec: 43.438\n",
      "INFO:tensorflow:step = 19301, loss = 0.118439 (2.301 sec)\n",
      "INFO:tensorflow:global_step/sec: 44.1281\n",
      "INFO:tensorflow:step = 19401, loss = 0.115362 (2.267 sec)\n",
      "INFO:tensorflow:global_step/sec: 44.3827\n",
      "INFO:tensorflow:step = 19501, loss = 0.115874 (2.253 sec)\n",
      "INFO:tensorflow:global_step/sec: 44.521\n",
      "INFO:tensorflow:step = 19601, loss = 0.114686 (2.246 sec)\n",
      "INFO:tensorflow:global_step/sec: 43.9149\n",
      "INFO:tensorflow:step = 19701, loss = 0.112855 (2.276 sec)\n",
      "INFO:tensorflow:global_step/sec: 44.7402\n",
      "INFO:tensorflow:step = 19801, loss = 0.114576 (2.235 sec)\n",
      "INFO:tensorflow:global_step/sec: 44.7202\n",
      "INFO:tensorflow:step = 19901, loss = 0.1118 (2.237 sec)\n",
      "INFO:tensorflow:Saving checkpoints for 20000 into D:\\Yadu Dropbox\\Dropbox\\SUTD Masters\\Organic Sam\\18.06.28 Data Extraction\\Trained Model\\Wet Disp without p4\\model.ckpt.\n",
      "INFO:tensorflow:Loss for final step: 0.116411.\n"
     ]
    },
    {
     "data": {
      "text/plain": [
       "DNNRegressor(params={'dropout': None, 'hidden_units': [100, 100], 'feature_columns': (_RealValuedColumn(column_name='', dimension=120, default_value=None, dtype=tf.float32, normalizer=None),), 'optimizer': None, 'head': <tensorflow.contrib.learn.python.learn.estimators.head._RegressionHead object at 0x000000001A246320>, 'activation_fn': <function relu at 0x000000001872CEA0>, 'input_layer_min_slice_size': None, 'embedding_lr_multipliers': None, 'gradient_clip_norm': None})"
      ]
     },
     "execution_count": 15,
     "metadata": {},
     "output_type": "execute_result"
    }
   ],
   "source": [
    "regressor.fit(X_train,y_train,steps=20000)"
   ]
  },
  {
   "cell_type": "code",
   "execution_count": 17,
   "metadata": {},
   "outputs": [
    {
     "name": "stdout",
     "output_type": "stream",
     "text": [
      "WARNING:tensorflow:From c:\\python\\lib\\site-packages\\tensorflow\\contrib\\learn\\python\\learn\\estimators\\dnn.py:689: calling BaseEstimator.evaluate (from tensorflow.contrib.learn.python.learn.estimators.estimator) with x is deprecated and will be removed after 2016-12-01.\n",
      "Instructions for updating:\n",
      "Estimator is decoupled from Scikit Learn interface by moving into\n",
      "separate class SKCompat. Arguments x, y and batch_size are only\n",
      "available in the SKCompat class, Estimator will only accept input_fn.\n",
      "Example conversion:\n",
      "  est = Estimator(...) -> est = SKCompat(Estimator(...))\n",
      "WARNING:tensorflow:From c:\\python\\lib\\site-packages\\tensorflow\\contrib\\learn\\python\\learn\\estimators\\dnn.py:689: calling BaseEstimator.evaluate (from tensorflow.contrib.learn.python.learn.estimators.estimator) with y is deprecated and will be removed after 2016-12-01.\n",
      "Instructions for updating:\n",
      "Estimator is decoupled from Scikit Learn interface by moving into\n",
      "separate class SKCompat. Arguments x, y and batch_size are only\n",
      "available in the SKCompat class, Estimator will only accept input_fn.\n",
      "Example conversion:\n",
      "  est = Estimator(...) -> est = SKCompat(Estimator(...))\n",
      "WARNING:tensorflow:float64 is not supported by many models, consider casting to float32.\n",
      "WARNING:tensorflow:float64 is not supported by many models, consider casting to float32.\n",
      "WARNING:tensorflow:From c:\\python\\lib\\site-packages\\tensorflow\\contrib\\learn\\python\\learn\\estimators\\head.py:642: scalar_summary (from tensorflow.python.ops.logging_ops) is deprecated and will be removed after 2016-11-30.\n",
      "Instructions for updating:\n",
      "Please switch to tf.summary.scalar. Note that tf.summary.scalar uses the node name instead of the tag. This means that TensorFlow will automatically de-duplicate summary names based on the scope they are created in. Also, passing a tensor or list of tags to a scalar summary op is no longer supported.\n",
      "INFO:tensorflow:Starting evaluation at 2018-07-06-04:06:16\n",
      "INFO:tensorflow:Restoring parameters from D:\\Yadu Dropbox\\Dropbox\\SUTD Masters\\Organic Sam\\18.06.28 Data Extraction\\Trained Model\\Wet Disp without p4\\model.ckpt-20000\n",
      "INFO:tensorflow:Evaluation [1/1]\n",
      "INFO:tensorflow:Finished evaluation at 2018-07-06-04:06:16\n",
      "INFO:tensorflow:Saving dict for global step 20000: global_step = 20000, loss = 0.126382\n"
     ]
    }
   ],
   "source": [
    "regeval=regressor.evaluate(X_test,y_test,steps=1)"
   ]
  },
  {
   "cell_type": "code",
   "execution_count": 18,
   "metadata": {},
   "outputs": [
    {
     "name": "stdout",
     "output_type": "stream",
     "text": [
      "WARNING:tensorflow:From <ipython-input-18-f089ad18cdfe>:1: calling DNNRegressor.predict (from tensorflow.contrib.learn.python.learn.estimators.dnn) with as_iterable=False is deprecated and will be removed after 2016-09-15.\n",
      "Instructions for updating:\n",
      "The default behavior of predict() is changing. The default value for\n",
      "as_iterable will change to True, and then the flag will be removed\n",
      "altogether. The behavior of this flag is described below.\n",
      "WARNING:tensorflow:From c:\\python\\lib\\site-packages\\tensorflow\\python\\util\\deprecation.py:355: calling DNNRegressor.predict (from tensorflow.contrib.learn.python.learn.estimators.dnn) with outputs=None is deprecated and will be removed after 2017-03-01.\n",
      "Instructions for updating:\n",
      "Please switch to predict_scores, or set `outputs` argument.\n",
      "WARNING:tensorflow:From c:\\python\\lib\\site-packages\\tensorflow\\contrib\\learn\\python\\learn\\estimators\\dnn.py:728: calling DNNRegressor.predict_scores (from tensorflow.contrib.learn.python.learn.estimators.dnn) with as_iterable=False is deprecated and will be removed after 2016-09-15.\n",
      "Instructions for updating:\n",
      "The default behavior of predict() is changing. The default value for\n",
      "as_iterable will change to True, and then the flag will be removed\n",
      "altogether. The behavior of this flag is described below.\n",
      "WARNING:tensorflow:From c:\\python\\lib\\site-packages\\tensorflow\\contrib\\learn\\python\\learn\\estimators\\dnn.py:764: calling BaseEstimator.predict (from tensorflow.contrib.learn.python.learn.estimators.estimator) with as_iterable is deprecated and will be removed after 2016-12-01.\n",
      "Instructions for updating:\n",
      "Estimator is decoupled from Scikit Learn interface by moving into\n",
      "separate class SKCompat. Arguments x, y and batch_size are only\n",
      "available in the SKCompat class, Estimator will only accept input_fn.\n",
      "Example conversion:\n",
      "  est = Estimator(...) -> est = SKCompat(Estimator(...))\n",
      "WARNING:tensorflow:From c:\\python\\lib\\site-packages\\tensorflow\\contrib\\learn\\python\\learn\\estimators\\dnn.py:764: calling BaseEstimator.predict (from tensorflow.contrib.learn.python.learn.estimators.estimator) with x is deprecated and will be removed after 2016-12-01.\n",
      "Instructions for updating:\n",
      "Estimator is decoupled from Scikit Learn interface by moving into\n",
      "separate class SKCompat. Arguments x, y and batch_size are only\n",
      "available in the SKCompat class, Estimator will only accept input_fn.\n",
      "Example conversion:\n",
      "  est = Estimator(...) -> est = SKCompat(Estimator(...))\n",
      "WARNING:tensorflow:float64 is not supported by many models, consider casting to float32.\n",
      "INFO:tensorflow:Restoring parameters from D:\\Yadu Dropbox\\Dropbox\\SUTD Masters\\Organic Sam\\18.06.28 Data Extraction\\Trained Model\\Wet Disp without p4\\model.ckpt-20000\n"
     ]
    }
   ],
   "source": [
    "regpredict=regressor.predict(X_test,as_iterable=False)"
   ]
  },
  {
   "cell_type": "code",
   "execution_count": 19,
   "metadata": {},
   "outputs": [
    {
     "name": "stdout",
     "output_type": "stream",
     "text": [
      "WARNING:tensorflow:From <ipython-input-19-b4777157c769>:1: calling DNNRegressor.predict (from tensorflow.contrib.learn.python.learn.estimators.dnn) with as_iterable=False is deprecated and will be removed after 2016-09-15.\n",
      "Instructions for updating:\n",
      "The default behavior of predict() is changing. The default value for\n",
      "as_iterable will change to True, and then the flag will be removed\n",
      "altogether. The behavior of this flag is described below.\n",
      "WARNING:tensorflow:From c:\\python\\lib\\site-packages\\tensorflow\\python\\util\\deprecation.py:355: calling DNNRegressor.predict (from tensorflow.contrib.learn.python.learn.estimators.dnn) with outputs=None is deprecated and will be removed after 2017-03-01.\n",
      "Instructions for updating:\n",
      "Please switch to predict_scores, or set `outputs` argument.\n",
      "WARNING:tensorflow:From c:\\python\\lib\\site-packages\\tensorflow\\contrib\\learn\\python\\learn\\estimators\\dnn.py:728: calling DNNRegressor.predict_scores (from tensorflow.contrib.learn.python.learn.estimators.dnn) with as_iterable=False is deprecated and will be removed after 2016-09-15.\n",
      "Instructions for updating:\n",
      "The default behavior of predict() is changing. The default value for\n",
      "as_iterable will change to True, and then the flag will be removed\n",
      "altogether. The behavior of this flag is described below.\n",
      "WARNING:tensorflow:From c:\\python\\lib\\site-packages\\tensorflow\\contrib\\learn\\python\\learn\\estimators\\dnn.py:764: calling BaseEstimator.predict (from tensorflow.contrib.learn.python.learn.estimators.estimator) with as_iterable is deprecated and will be removed after 2016-12-01.\n",
      "Instructions for updating:\n",
      "Estimator is decoupled from Scikit Learn interface by moving into\n",
      "separate class SKCompat. Arguments x, y and batch_size are only\n",
      "available in the SKCompat class, Estimator will only accept input_fn.\n",
      "Example conversion:\n",
      "  est = Estimator(...) -> est = SKCompat(Estimator(...))\n",
      "WARNING:tensorflow:From c:\\python\\lib\\site-packages\\tensorflow\\contrib\\learn\\python\\learn\\estimators\\dnn.py:764: calling BaseEstimator.predict (from tensorflow.contrib.learn.python.learn.estimators.estimator) with x is deprecated and will be removed after 2016-12-01.\n",
      "Instructions for updating:\n",
      "Estimator is decoupled from Scikit Learn interface by moving into\n",
      "separate class SKCompat. Arguments x, y and batch_size are only\n",
      "available in the SKCompat class, Estimator will only accept input_fn.\n",
      "Example conversion:\n",
      "  est = Estimator(...) -> est = SKCompat(Estimator(...))\n",
      "WARNING:tensorflow:float64 is not supported by many models, consider casting to float32.\n",
      "INFO:tensorflow:Restoring parameters from D:\\Yadu Dropbox\\Dropbox\\SUTD Masters\\Organic Sam\\18.06.28 Data Extraction\\Trained Model\\Wet Disp without p4\\model.ckpt-20000\n"
     ]
    }
   ],
   "source": [
    "score = metrics.mean_squared_error(regressor.predict(X_test, as_iterable=False), y_test)"
   ]
  },
  {
   "cell_type": "code",
   "execution_count": 20,
   "metadata": {},
   "outputs": [
    {
     "data": {
      "text/plain": [
       "0.12638343513697856"
      ]
     },
     "execution_count": 20,
     "metadata": {},
     "output_type": "execute_result"
    }
   ],
   "source": [
    "score"
   ]
  },
  {
   "cell_type": "code",
   "execution_count": 21,
   "metadata": {},
   "outputs": [
    {
     "data": {
      "text/plain": [
       "0.35550447977061916"
      ]
     },
     "execution_count": 21,
     "metadata": {},
     "output_type": "execute_result"
    }
   ],
   "source": [
    "np.sqrt(metrics.mean_squared_error(y_test,regpredict))"
   ]
  },
  {
   "cell_type": "markdown",
   "metadata": {},
   "source": [
    "# Predictions"
   ]
  },
  {
   "cell_type": "code",
   "execution_count": 1,
   "metadata": {},
   "outputs": [],
   "source": [
    "import numpy as np\n",
    "import seaborn as sns\n",
    "import pandas as pd\n",
    "import matplotlib.pyplot as plt\n",
    "import tensorflow as tf\n",
    "%matplotlib inline \n",
    "from sklearn.preprocessing import StandardScaler"
   ]
  },
  {
   "cell_type": "code",
   "execution_count": 2,
   "metadata": {},
   "outputs": [
    {
     "name": "stdout",
     "output_type": "stream",
     "text": [
      "WARNING:tensorflow:From c:\\users\\samuel\\appdata\\local\\programs\\python\\python35\\lib\\site-packages\\tensorflow\\contrib\\learn\\python\\learn\\estimators\\dnn.py:660: regression_head (from tensorflow.contrib.learn.python.learn.estimators.head) is deprecated and will be removed in a future version.\n",
      "Instructions for updating:\n",
      "Please switch to tf.contrib.estimator.*_head.\n",
      "WARNING:tensorflow:From c:\\users\\samuel\\appdata\\local\\programs\\python\\python35\\lib\\site-packages\\tensorflow\\contrib\\learn\\python\\learn\\estimators\\estimator.py:1180: BaseEstimator.__init__ (from tensorflow.contrib.learn.python.learn.estimators.estimator) is deprecated and will be removed in a future version.\n",
      "Instructions for updating:\n",
      "Please replace uses of any Estimator from tf.contrib.learn with an Estimator from tf.estimator.*\n",
      "WARNING:tensorflow:From c:\\users\\samuel\\appdata\\local\\programs\\python\\python35\\lib\\site-packages\\tensorflow\\contrib\\learn\\python\\learn\\estimators\\estimator.py:428: RunConfig.__init__ (from tensorflow.contrib.learn.python.learn.estimators.run_config) is deprecated and will be removed in a future version.\n",
      "Instructions for updating:\n",
      "When switching to tf.estimator.Estimator, use tf.estimator.RunConfig instead.\n",
      "INFO:tensorflow:Using default config.\n",
      "INFO:tensorflow:Using config: {'_train_distribute': None, '_save_summary_steps': 100, '_model_dir': 'Trained Model\\\\Wet Disp without p4', '_log_step_count_steps': 100, '_protocol': None, '_evaluation_master': '', '_device_fn': None, '_cluster_spec': <tensorflow.python.training.server_lib.ClusterSpec object at 0x000002C713F2BE80>, '_tf_config': gpu_options {\n",
      "  per_process_gpu_memory_fraction: 1.0\n",
      "}\n",
      ", '_task_id': 0, '_task_type': None, '_session_config': None, '_save_checkpoints_secs': 600, '_is_chief': True, '_num_worker_replicas': 0, '_keep_checkpoint_every_n_hours': 10000, '_environment': 'local', '_master': '', '_tf_random_seed': None, '_num_ps_replicas': 0, '_keep_checkpoint_max': 5, '_eval_distribute': None, '_save_checkpoints_steps': None}\n"
     ]
    }
   ],
   "source": [
    "label_dimension=120\n",
    "from tensorflow.contrib.learn import DNNRegressor\n",
    "feature_columns = [tf.contrib.layers.real_valued_column(\"\", dimension=label_dimension)]\n",
    "#model_dir=\"D:\\\\Yadu Dropbox\\\\Dropbox\\\\SUTD Masters\\\\Organic Sam\\\\18.06.28 Data Extraction\\\\Trained Model\\\\Wet Disp without p4\"\n",
    "model_dir=\"Trained Model\\\\Wet Disp without p4\"\n",
    "regressor=DNNRegressor(model_dir=model_dir,hidden_units=[100,100],feature_columns=feature_columns,label_dimension=label_dimension)"
   ]
  },
  {
   "cell_type": "code",
   "execution_count": 3,
   "metadata": {},
   "outputs": [],
   "source": [
    "dfp=pd.read_csv(\"drypathdata_jarron10.csv\")\n",
    "\n",
    "#dfp=df2\n",
    "Xp=np.array(dfp['CurveData'])\n",
    "label_dimension=120;\n",
    "Xp=Xp.reshape(int(Xp.size/label_dimension),label_dimension)\n",
    "sXp=Xp\n",
    "scaler2=StandardScaler()\n",
    "scaler2.fit(sXp)\n",
    "scaledX2=scaler2.transform(sXp)\n",
    "sXp=scaledX2"
   ]
  },
  {
   "cell_type": "code",
   "execution_count": 4,
   "metadata": {
    "scrolled": true
   },
   "outputs": [
    {
     "name": "stdout",
     "output_type": "stream",
     "text": [
      "WARNING:tensorflow:From <ipython-input-4-274f6f9ac691>:1: calling DNNRegressor.predict (from tensorflow.contrib.learn.python.learn.estimators.dnn) with as_iterable=False is deprecated and will be removed after 2016-09-15.\n",
      "Instructions for updating:\n",
      "The default behavior of predict() is changing. The default value for\n",
      "as_iterable will change to True, and then the flag will be removed\n",
      "altogether. The behavior of this flag is described below.\n",
      "WARNING:tensorflow:From c:\\users\\samuel\\appdata\\local\\programs\\python\\python35\\lib\\site-packages\\tensorflow\\python\\util\\deprecation.py:553: calling DNNRegressor.predict (from tensorflow.contrib.learn.python.learn.estimators.dnn) with outputs=None is deprecated and will be removed after 2017-03-01.\n",
      "Instructions for updating:\n",
      "Please switch to predict_scores, or set `outputs` argument.\n",
      "WARNING:tensorflow:From c:\\users\\samuel\\appdata\\local\\programs\\python\\python35\\lib\\site-packages\\tensorflow\\contrib\\learn\\python\\learn\\estimators\\dnn.py:743: calling DNNRegressor.predict_scores (from tensorflow.contrib.learn.python.learn.estimators.dnn) with as_iterable=False is deprecated and will be removed after 2016-09-15.\n",
      "Instructions for updating:\n",
      "The default behavior of predict() is changing. The default value for\n",
      "as_iterable will change to True, and then the flag will be removed\n",
      "altogether. The behavior of this flag is described below.\n",
      "WARNING:tensorflow:From c:\\users\\samuel\\appdata\\local\\programs\\python\\python35\\lib\\site-packages\\tensorflow\\contrib\\learn\\python\\learn\\estimators\\dnn.py:779: calling BaseEstimator.predict (from tensorflow.contrib.learn.python.learn.estimators.estimator) with x is deprecated and will be removed after 2016-12-01.\n",
      "Instructions for updating:\n",
      "Estimator is decoupled from Scikit Learn interface by moving into\n",
      "separate class SKCompat. Arguments x, y and batch_size are only\n",
      "available in the SKCompat class, Estimator will only accept input_fn.\n",
      "Example conversion:\n",
      "  est = Estimator(...) -> est = SKCompat(Estimator(...))\n",
      "WARNING:tensorflow:From c:\\users\\samuel\\appdata\\local\\programs\\python\\python35\\lib\\site-packages\\tensorflow\\contrib\\learn\\python\\learn\\estimators\\dnn.py:779: calling BaseEstimator.predict (from tensorflow.contrib.learn.python.learn.estimators.estimator) with as_iterable is deprecated and will be removed after 2016-12-01.\n",
      "Instructions for updating:\n",
      "Estimator is decoupled from Scikit Learn interface by moving into\n",
      "separate class SKCompat. Arguments x, y and batch_size are only\n",
      "available in the SKCompat class, Estimator will only accept input_fn.\n",
      "Example conversion:\n",
      "  est = Estimator(...) -> est = SKCompat(Estimator(...))\n",
      "WARNING:tensorflow:From c:\\users\\samuel\\appdata\\local\\programs\\python\\python35\\lib\\site-packages\\tensorflow\\contrib\\learn\\python\\learn\\estimators\\estimator.py:663: SKCompat.__init__ (from tensorflow.contrib.learn.python.learn.estimators.estimator) is deprecated and will be removed in a future version.\n",
      "Instructions for updating:\n",
      "Please switch to the Estimator interface.\n",
      "WARNING:tensorflow:From c:\\users\\samuel\\appdata\\local\\programs\\python\\python35\\lib\\site-packages\\tensorflow\\contrib\\learn\\python\\learn\\estimators\\estimator.py:143: setup_train_data_feeder (from tensorflow.contrib.learn.python.learn.learn_io.data_feeder) is deprecated and will be removed in a future version.\n",
      "Instructions for updating:\n",
      "Please use tensorflow/transform or tf.data.\n",
      "WARNING:tensorflow:From c:\\users\\samuel\\appdata\\local\\programs\\python\\python35\\lib\\site-packages\\tensorflow\\contrib\\learn\\python\\learn\\learn_io\\data_feeder.py:100: extract_pandas_data (from tensorflow.contrib.learn.python.learn.learn_io.pandas_io) is deprecated and will be removed in a future version.\n",
      "Instructions for updating:\n",
      "Please access pandas data directly.\n",
      "WARNING:tensorflow:From c:\\users\\samuel\\appdata\\local\\programs\\python\\python35\\lib\\site-packages\\tensorflow\\contrib\\learn\\python\\learn\\learn_io\\data_feeder.py:159: DataFeeder.__init__ (from tensorflow.contrib.learn.python.learn.learn_io.data_feeder) is deprecated and will be removed in a future version.\n",
      "Instructions for updating:\n",
      "Please use tensorflow/transform or tf.data.\n",
      "WARNING:tensorflow:From c:\\users\\samuel\\appdata\\local\\programs\\python\\python35\\lib\\site-packages\\tensorflow\\contrib\\learn\\python\\learn\\learn_io\\data_feeder.py:340: check_array (from tensorflow.contrib.learn.python.learn.learn_io.data_feeder) is deprecated and will be removed in a future version.\n",
      "Instructions for updating:\n",
      "Please convert numpy dtypes explicitly.\n",
      "WARNING:tensorflow:float64 is not supported by many models, consider casting to float32.\n",
      "WARNING:tensorflow:From c:\\users\\samuel\\appdata\\local\\programs\\python\\python35\\lib\\site-packages\\tensorflow\\contrib\\learn\\python\\learn\\estimators\\head.py:678: ModelFnOps.__new__ (from tensorflow.contrib.learn.python.learn.estimators.model_fn) is deprecated and will be removed in a future version.\n",
      "Instructions for updating:\n",
      "When switching to tf.estimator.Estimator, use tf.estimator.EstimatorSpec. You can use the `estimator_spec` method to create an equivalent one.\n",
      "INFO:tensorflow:Graph was finalized.\n",
      "INFO:tensorflow:Restoring parameters from Trained Model\\Wet Disp without p4\\model.ckpt-20000\n",
      "INFO:tensorflow:Running local_init_op.\n",
      "INFO:tensorflow:Done running local_init_op.\n"
     ]
    }
   ],
   "source": [
    "disp=regressor.predict(sXp,as_iterable=False)"
   ]
  },
  {
   "cell_type": "code",
   "execution_count": 5,
   "metadata": {},
   "outputs": [],
   "source": [
    "disp=disp.reshape(disp.size)\n",
    "for i in range(2,disp.size,3):\n",
    "    disp[i]=0\n",
    "disp=disp.reshape(int(disp.size/label_dimension),label_dimension)    "
   ]
  },
  {
   "cell_type": "code",
   "execution_count": 6,
   "metadata": {},
   "outputs": [
    {
     "name": "stdout",
     "output_type": "stream",
     "text": [
      "<class 'pandas.core.frame.DataFrame'>\n",
      "RangeIndex: 360 entries, 0 to 359\n",
      "Columns: 120 entries, 0 to 119\n",
      "dtypes: float64(120)\n",
      "memory usage: 337.6 KB\n"
     ]
    }
   ],
   "source": [
    "presetpts=Xp-disp\n",
    "presetpd=pd.DataFrame(presetpts)\n",
    "presetpd.info()\n",
    "presetpd.to_csv('wetpreset_jarron10.csv',index=False, header=False)"
   ]
  },
  {
   "cell_type": "markdown",
   "metadata": {},
   "source": [
    "# Debugging"
   ]
  },
  {
   "cell_type": "code",
   "execution_count": 34,
   "metadata": {},
   "outputs": [],
   "source": [
    "disp=disp.reshape(int(disp.size/3),3)\n",
    "dispdf=pd.DataFrame(disp,columns=['dx','dy','dz'])"
   ]
  },
  {
   "cell_type": "code",
   "execution_count": 39,
   "metadata": {},
   "outputs": [
    {
     "name": "stderr",
     "output_type": "stream",
     "text": [
      "c:\\python\\lib\\site-packages\\matplotlib\\axes\\_axes.py:6462: UserWarning: The 'normed' kwarg is deprecated, and has been replaced by the 'density' kwarg.\n",
      "  warnings.warn(\"The 'normed' kwarg is deprecated, and has been \"\n"
     ]
    },
    {
     "data": {
      "text/plain": [
       "<matplotlib.axes._subplots.AxesSubplot at 0x2331e7b8>"
      ]
     },
     "execution_count": 39,
     "metadata": {},
     "output_type": "execute_result"
    },
    {
     "data": {
      "image/png": "[encoded data removed]",
      "text/plain": [
       "<Figure size 432x288 with 1 Axes>"
      ]
     },
     "metadata": {},
     "output_type": "display_data"
    }
   ],
   "source": [
    "sns.distplot(dispdf['dy'])"
   ]
  },
  {
   "cell_type": "code",
   "execution_count": null,
   "metadata": {},
   "outputs": [],
   "source": []
  },
  {
   "cell_type": "code",
   "execution_count": 65,
   "metadata": {},
   "outputs": [],
   "source": [
    "g=np.array(pd.read_csv('p4wetpreset.csv')['ScanData']-pd.read_csv('p4wetpreset.csv')['ExpSrfData'])\n",
    "h=np.array(pd.read_csv('p4wetpreset.csv')['CurveData'])"
   ]
  },
  {
   "cell_type": "code",
   "execution_count": 66,
   "metadata": {},
   "outputs": [],
   "source": [
    "g=g.reshape(int(g.size/120),120)\n",
    "h=h.reshape(int(h.size/120),120)\n",
    "scaler2=StandardScaler()\n",
    "scaler2.fit(h)\n",
    "scaledX2=scaler2.transform(h)\n",
    "h=scaledX2"
   ]
  },
  {
   "cell_type": "code",
   "execution_count": 67,
   "metadata": {},
   "outputs": [
    {
     "name": "stdout",
     "output_type": "stream",
     "text": [
      "WARNING:tensorflow:From <ipython-input-67-b73b5130837b>:2: calling DNNRegressor.predict (from tensorflow.contrib.learn.python.learn.estimators.dnn) with as_iterable=False is deprecated and will be removed after 2016-09-15.\n",
      "Instructions for updating:\n",
      "The default behavior of predict() is changing. The default value for\n",
      "as_iterable will change to True, and then the flag will be removed\n",
      "altogether. The behavior of this flag is described below.\n",
      "WARNING:tensorflow:From c:\\python\\lib\\site-packages\\tensorflow\\python\\util\\deprecation.py:355: calling DNNRegressor.predict (from tensorflow.contrib.learn.python.learn.estimators.dnn) with outputs=None is deprecated and will be removed after 2017-03-01.\n",
      "Instructions for updating:\n",
      "Please switch to predict_scores, or set `outputs` argument.\n",
      "WARNING:tensorflow:From c:\\python\\lib\\site-packages\\tensorflow\\contrib\\learn\\python\\learn\\estimators\\dnn.py:728: calling DNNRegressor.predict_scores (from tensorflow.contrib.learn.python.learn.estimators.dnn) with as_iterable=False is deprecated and will be removed after 2016-09-15.\n",
      "Instructions for updating:\n",
      "The default behavior of predict() is changing. The default value for\n",
      "as_iterable will change to True, and then the flag will be removed\n",
      "altogether. The behavior of this flag is described below.\n",
      "WARNING:tensorflow:From c:\\python\\lib\\site-packages\\tensorflow\\contrib\\learn\\python\\learn\\estimators\\dnn.py:764: calling BaseEstimator.predict (from tensorflow.contrib.learn.python.learn.estimators.estimator) with x is deprecated and will be removed after 2016-12-01.\n",
      "Instructions for updating:\n",
      "Estimator is decoupled from Scikit Learn interface by moving into\n",
      "separate class SKCompat. Arguments x, y and batch_size are only\n",
      "available in the SKCompat class, Estimator will only accept input_fn.\n",
      "Example conversion:\n",
      "  est = Estimator(...) -> est = SKCompat(Estimator(...))\n",
      "WARNING:tensorflow:From c:\\python\\lib\\site-packages\\tensorflow\\contrib\\learn\\python\\learn\\estimators\\dnn.py:764: calling BaseEstimator.predict (from tensorflow.contrib.learn.python.learn.estimators.estimator) with as_iterable is deprecated and will be removed after 2016-12-01.\n",
      "Instructions for updating:\n",
      "Estimator is decoupled from Scikit Learn interface by moving into\n",
      "separate class SKCompat. Arguments x, y and batch_size are only\n",
      "available in the SKCompat class, Estimator will only accept input_fn.\n",
      "Example conversion:\n",
      "  est = Estimator(...) -> est = SKCompat(Estimator(...))\n",
      "WARNING:tensorflow:float64 is not supported by many models, consider casting to float32.\n",
      "INFO:tensorflow:Restoring parameters from D:\\Yadu Dropbox\\Dropbox\\SUTD Masters\\Organic Sam\\18.06.28 Data Extraction\\Trained Model\\Wet Disp\\model.ckpt-20000\n"
     ]
    },
    {
     "data": {
      "text/plain": [
       "3.7447756203796905"
      ]
     },
     "execution_count": 67,
     "metadata": {},
     "output_type": "execute_result"
    }
   ],
   "source": [
    "from sklearn import metrics\n",
    "np.sqrt(metrics.mean_squared_error(regressor.predict(h, as_iterable=False),g))"
   ]
  },
  {
   "cell_type": "markdown",
   "metadata": {},
   "source": [
    "# Additional Training"
   ]
  },
  {
   "cell_type": "code",
   "execution_count": 69,
   "metadata": {},
   "outputs": [
    {
     "name": "stdout",
     "output_type": "stream",
     "text": [
      "INFO:tensorflow:Using default config.\n",
      "INFO:tensorflow:Using config: {'_save_checkpoints_secs': 600, '_evaluation_master': '', '_task_id': 0, '_log_step_count_steps': 100, '_tf_random_seed': None, '_tf_config': gpu_options {\n",
      "  per_process_gpu_memory_fraction: 1\n",
      "}\n",
      ", '_cluster_spec': <tensorflow.python.training.server_lib.ClusterSpec object at 0x0000000026C53E10>, '_save_summary_steps': 100, '_task_type': None, '_session_config': None, '_is_chief': True, '_environment': 'local', '_save_checkpoints_steps': None, '_num_worker_replicas': 0, '_keep_checkpoint_max': 5, '_keep_checkpoint_every_n_hours': 10000, '_num_ps_replicas': 0, '_master': '', '_model_dir': 'D:\\\\Yadu Dropbox\\\\Dropbox\\\\SUTD Masters\\\\Organic Sam\\\\18.06.28 Data Extraction\\\\Trained Model\\\\Wet Disp'}\n"
     ]
    }
   ],
   "source": [
    "df=pd.read_csv('p4wetpreset.csv')\n",
    "df['Disp']=df['ScanData']-df['ExpSrfData']\n",
    "x=np.array(df['CurveData'])\n",
    "y=np.array(df['Disp'])\n",
    "label_dimension=120\n",
    "X=x.reshape(int(x.size/label_dimension),label_dimension)\n",
    "y=y.reshape(int(x.size/label_dimension),label_dimension)\n",
    "from sklearn.model_selection import train_test_split\n",
    "from sklearn.preprocessing import StandardScaler\n",
    "from sklearn import metrics\n",
    "scaler=StandardScaler()\n",
    "scaler.fit(X)\n",
    "scaledX=scaler.transform(X)\n",
    "X=scaledX\n",
    "X_train, X_test, y_train, y_test = train_test_split(X, y, test_size=0.30, random_state=6)\n",
    "from tensorflow.contrib.learn import DNNRegressor\n",
    "feature_columns = [tf.contrib.layers.real_valued_column(\"\", dimension=label_dimension)]\n",
    "model_dir=\"D:\\\\Yadu Dropbox\\\\Dropbox\\\\SUTD Masters\\\\Organic Sam\\\\18.06.28 Data Extraction\\\\Trained Model\\\\Wet Disp without p4\"\n",
    "regressor=DNNRegressor(model_dir=model_dir,hidden_units=[100,100],feature_columns=feature_columns,label_dimension=label_dimension)"
   ]
  },
  {
   "cell_type": "code",
   "execution_count": 70,
   "metadata": {
    "scrolled": true
   },
   "outputs": [
    {
     "name": "stdout",
     "output_type": "stream",
     "text": [
      "WARNING:tensorflow:From <ipython-input-70-3de9d3107185>:1: calling BaseEstimator.fit (from tensorflow.contrib.learn.python.learn.estimators.estimator) with x is deprecated and will be removed after 2016-12-01.\n",
      "Instructions for updating:\n",
      "Estimator is decoupled from Scikit Learn interface by moving into\n",
      "separate class SKCompat. Arguments x, y and batch_size are only\n",
      "available in the SKCompat class, Estimator will only accept input_fn.\n",
      "Example conversion:\n",
      "  est = Estimator(...) -> est = SKCompat(Estimator(...))\n",
      "WARNING:tensorflow:From <ipython-input-70-3de9d3107185>:1: calling BaseEstimator.fit (from tensorflow.contrib.learn.python.learn.estimators.estimator) with y is deprecated and will be removed after 2016-12-01.\n",
      "Instructions for updating:\n",
      "Estimator is decoupled from Scikit Learn interface by moving into\n",
      "separate class SKCompat. Arguments x, y and batch_size are only\n",
      "available in the SKCompat class, Estimator will only accept input_fn.\n",
      "Example conversion:\n",
      "  est = Estimator(...) -> est = SKCompat(Estimator(...))\n",
      "WARNING:tensorflow:float64 is not supported by many models, consider casting to float32.\n",
      "WARNING:tensorflow:float64 is not supported by many models, consider casting to float32.\n",
      "WARNING:tensorflow:From c:\\python\\lib\\site-packages\\tensorflow\\contrib\\learn\\python\\learn\\estimators\\head.py:642: scalar_summary (from tensorflow.python.ops.logging_ops) is deprecated and will be removed after 2016-11-30.\n",
      "Instructions for updating:\n",
      "Please switch to tf.summary.scalar. Note that tf.summary.scalar uses the node name instead of the tag. This means that TensorFlow will automatically de-duplicate summary names based on the scope they are created in. Also, passing a tensor or list of tags to a scalar summary op is no longer supported.\n",
      "INFO:tensorflow:Create CheckpointSaverHook.\n",
      "INFO:tensorflow:Restoring parameters from D:\\Yadu Dropbox\\Dropbox\\SUTD Masters\\Organic Sam\\18.06.28 Data Extraction\\Trained Model\\Wet Disp\\model.ckpt-20000\n",
      "INFO:tensorflow:Saving checkpoints for 20001 into D:\\Yadu Dropbox\\Dropbox\\SUTD Masters\\Organic Sam\\18.06.28 Data Extraction\\Trained Model\\Wet Disp\\model.ckpt.\n",
      "INFO:tensorflow:step = 20001, loss = 12.0679\n",
      "INFO:tensorflow:global_step/sec: 233.087\n",
      "INFO:tensorflow:step = 20101, loss = 0.0254169 (0.429 sec)\n",
      "INFO:tensorflow:global_step/sec: 250.612\n",
      "INFO:tensorflow:step = 20201, loss = 0.0214154 (0.400 sec)\n",
      "INFO:tensorflow:global_step/sec: 254.438\n",
      "INFO:tensorflow:step = 20301, loss = 0.0197026 (0.392 sec)\n",
      "INFO:tensorflow:global_step/sec: 260.402\n",
      "INFO:tensorflow:step = 20401, loss = 0.0186254 (0.384 sec)\n",
      "INFO:tensorflow:global_step/sec: 261.082\n",
      "INFO:tensorflow:step = 20501, loss = 0.0178751 (0.383 sec)\n",
      "INFO:tensorflow:global_step/sec: 253.15\n",
      "INFO:tensorflow:step = 20601, loss = 0.0172858 (0.395 sec)\n",
      "INFO:tensorflow:global_step/sec: 262.452\n",
      "INFO:tensorflow:step = 20701, loss = 0.0167532 (0.381 sec)\n",
      "INFO:tensorflow:global_step/sec: 263.143\n",
      "INFO:tensorflow:step = 20801, loss = 0.0163354 (0.380 sec)\n",
      "INFO:tensorflow:global_step/sec: 265.942\n",
      "INFO:tensorflow:step = 20901, loss = 0.0159778 (0.376 sec)\n",
      "INFO:tensorflow:global_step/sec: 254.438\n",
      "INFO:tensorflow:step = 21001, loss = 0.0156573 (0.393 sec)\n",
      "INFO:tensorflow:global_step/sec: 267.364\n",
      "INFO:tensorflow:step = 21101, loss = 0.0153719 (0.374 sec)\n",
      "INFO:tensorflow:global_step/sec: 223.202\n",
      "INFO:tensorflow:step = 21201, loss = 0.0151117 (0.448 sec)\n",
      "INFO:tensorflow:global_step/sec: 259.052\n",
      "INFO:tensorflow:step = 21301, loss = 0.0148978 (0.386 sec)\n",
      "INFO:tensorflow:global_step/sec: 261.082\n",
      "INFO:tensorflow:step = 21401, loss = 0.0147264 (0.383 sec)\n",
      "INFO:tensorflow:global_step/sec: 266.651\n",
      "INFO:tensorflow:step = 21501, loss = 0.0145958 (0.374 sec)\n",
      "INFO:tensorflow:global_step/sec: 267.364\n",
      "INFO:tensorflow:step = 21601, loss = 0.0146152 (0.375 sec)\n",
      "INFO:tensorflow:global_step/sec: 253.15\n",
      "INFO:tensorflow:step = 21701, loss = 0.0145852 (0.395 sec)\n",
      "INFO:tensorflow:global_step/sec: 265.942\n",
      "INFO:tensorflow:step = 21801, loss = 0.0142408 (0.376 sec)\n",
      "INFO:tensorflow:global_step/sec: 266.651\n",
      "INFO:tensorflow:step = 21901, loss = 0.0141588 (0.375 sec)\n",
      "INFO:tensorflow:Saving checkpoints for 22000 into D:\\Yadu Dropbox\\Dropbox\\SUTD Masters\\Organic Sam\\18.06.28 Data Extraction\\Trained Model\\Wet Disp\\model.ckpt.\n",
      "INFO:tensorflow:Loss for final step: 0.0139998.\n"
     ]
    },
    {
     "data": {
      "text/plain": [
       "DNNRegressor(params={'hidden_units': [100, 100], 'dropout': None, 'gradient_clip_norm': None, 'activation_fn': <function relu at 0x0000000018721EA0>, 'head': <tensorflow.contrib.learn.python.learn.estimators.head._RegressionHead object at 0x0000000026C56278>, 'feature_columns': (_RealValuedColumn(column_name='', dimension=120, default_value=None, dtype=tf.float32, normalizer=None),), 'embedding_lr_multipliers': None, 'optimizer': None, 'input_layer_min_slice_size': None})"
      ]
     },
     "execution_count": 70,
     "metadata": {},
     "output_type": "execute_result"
    }
   ],
   "source": [
    "regressor.fit(X_train,y_train,steps=2000)"
   ]
  },
  {
   "cell_type": "code",
   "execution_count": 73,
   "metadata": {
    "scrolled": true
   },
   "outputs": [
    {
     "name": "stdout",
     "output_type": "stream",
     "text": [
      "WARNING:tensorflow:From c:\\python\\lib\\site-packages\\tensorflow\\contrib\\learn\\python\\learn\\estimators\\dnn.py:689: calling BaseEstimator.evaluate (from tensorflow.contrib.learn.python.learn.estimators.estimator) with x is deprecated and will be removed after 2016-12-01.\n",
      "Instructions for updating:\n",
      "Estimator is decoupled from Scikit Learn interface by moving into\n",
      "separate class SKCompat. Arguments x, y and batch_size are only\n",
      "available in the SKCompat class, Estimator will only accept input_fn.\n",
      "Example conversion:\n",
      "  est = Estimator(...) -> est = SKCompat(Estimator(...))\n",
      "WARNING:tensorflow:From c:\\python\\lib\\site-packages\\tensorflow\\contrib\\learn\\python\\learn\\estimators\\dnn.py:689: calling BaseEstimator.evaluate (from tensorflow.contrib.learn.python.learn.estimators.estimator) with y is deprecated and will be removed after 2016-12-01.\n",
      "Instructions for updating:\n",
      "Estimator is decoupled from Scikit Learn interface by moving into\n",
      "separate class SKCompat. Arguments x, y and batch_size are only\n",
      "available in the SKCompat class, Estimator will only accept input_fn.\n",
      "Example conversion:\n",
      "  est = Estimator(...) -> est = SKCompat(Estimator(...))\n",
      "WARNING:tensorflow:float64 is not supported by many models, consider casting to float32.\n",
      "WARNING:tensorflow:float64 is not supported by many models, consider casting to float32.\n",
      "WARNING:tensorflow:From c:\\python\\lib\\site-packages\\tensorflow\\contrib\\learn\\python\\learn\\estimators\\head.py:642: scalar_summary (from tensorflow.python.ops.logging_ops) is deprecated and will be removed after 2016-11-30.\n",
      "Instructions for updating:\n",
      "Please switch to tf.summary.scalar. Note that tf.summary.scalar uses the node name instead of the tag. This means that TensorFlow will automatically de-duplicate summary names based on the scope they are created in. Also, passing a tensor or list of tags to a scalar summary op is no longer supported.\n",
      "INFO:tensorflow:Starting evaluation at 2018-07-05-16:21:21\n",
      "INFO:tensorflow:Restoring parameters from D:\\Yadu Dropbox\\Dropbox\\SUTD Masters\\Organic Sam\\18.06.28 Data Extraction\\Trained Model\\Wet Disp\\model.ckpt-22000\n",
      "INFO:tensorflow:Evaluation [1/1]\n",
      "INFO:tensorflow:Finished evaluation at 2018-07-05-16:21:22\n",
      "INFO:tensorflow:Saving dict for global step 22000: global_step = 22000, loss = 0.0978202\n",
      "WARNING:tensorflow:From <ipython-input-73-0fdcebd44ae2>:2: calling DNNRegressor.predict (from tensorflow.contrib.learn.python.learn.estimators.dnn) with as_iterable=False is deprecated and will be removed after 2016-09-15.\n",
      "Instructions for updating:\n",
      "The default behavior of predict() is changing. The default value for\n",
      "as_iterable will change to True, and then the flag will be removed\n",
      "altogether. The behavior of this flag is described below.\n",
      "WARNING:tensorflow:From c:\\python\\lib\\site-packages\\tensorflow\\python\\util\\deprecation.py:355: calling DNNRegressor.predict (from tensorflow.contrib.learn.python.learn.estimators.dnn) with outputs=None is deprecated and will be removed after 2017-03-01.\n",
      "Instructions for updating:\n",
      "Please switch to predict_scores, or set `outputs` argument.\n",
      "WARNING:tensorflow:From c:\\python\\lib\\site-packages\\tensorflow\\contrib\\learn\\python\\learn\\estimators\\dnn.py:728: calling DNNRegressor.predict_scores (from tensorflow.contrib.learn.python.learn.estimators.dnn) with as_iterable=False is deprecated and will be removed after 2016-09-15.\n",
      "Instructions for updating:\n",
      "The default behavior of predict() is changing. The default value for\n",
      "as_iterable will change to True, and then the flag will be removed\n",
      "altogether. The behavior of this flag is described below.\n",
      "WARNING:tensorflow:From c:\\python\\lib\\site-packages\\tensorflow\\contrib\\learn\\python\\learn\\estimators\\dnn.py:764: calling BaseEstimator.predict (from tensorflow.contrib.learn.python.learn.estimators.estimator) with x is deprecated and will be removed after 2016-12-01.\n",
      "Instructions for updating:\n",
      "Estimator is decoupled from Scikit Learn interface by moving into\n",
      "separate class SKCompat. Arguments x, y and batch_size are only\n",
      "available in the SKCompat class, Estimator will only accept input_fn.\n",
      "Example conversion:\n",
      "  est = Estimator(...) -> est = SKCompat(Estimator(...))\n",
      "WARNING:tensorflow:From c:\\python\\lib\\site-packages\\tensorflow\\contrib\\learn\\python\\learn\\estimators\\dnn.py:764: calling BaseEstimator.predict (from tensorflow.contrib.learn.python.learn.estimators.estimator) with as_iterable is deprecated and will be removed after 2016-12-01.\n",
      "Instructions for updating:\n",
      "Estimator is decoupled from Scikit Learn interface by moving into\n",
      "separate class SKCompat. Arguments x, y and batch_size are only\n",
      "available in the SKCompat class, Estimator will only accept input_fn.\n",
      "Example conversion:\n",
      "  est = Estimator(...) -> est = SKCompat(Estimator(...))\n",
      "WARNING:tensorflow:float64 is not supported by many models, consider casting to float32.\n",
      "INFO:tensorflow:Restoring parameters from D:\\Yadu Dropbox\\Dropbox\\SUTD Masters\\Organic Sam\\18.06.28 Data Extraction\\Trained Model\\Wet Disp\\model.ckpt-22000\n"
     ]
    },
    {
     "data": {
      "text/plain": [
       "0.3127623660649792"
      ]
     },
     "execution_count": 73,
     "metadata": {},
     "output_type": "execute_result"
    }
   ],
   "source": [
    "regeval=regressor.evaluate(X_test,y_test,steps=1)\n",
    "regpredict=regressor.predict(X_test,as_iterable=False)\n",
    "np.sqrt(metrics.mean_squared_error(y_test,regpredict))"
   ]
  },
  {
   "cell_type": "code",
   "execution_count": null,
   "metadata": {},
   "outputs": [],
   "source": []
  },
  {
   "cell_type": "markdown",
   "metadata": {},
   "source": [
    "# Display Surface"
   ]
  },
  {
   "cell_type": "code",
   "execution_count": 81,
   "metadata": {},
   "outputs": [
    {
     "name": "stdout",
     "output_type": "stream",
     "text": [
      "<class 'pandas.core.frame.DataFrame'>\n",
      "RangeIndex: 360 entries, 0 to 359\n",
      "Columns: 120 entries, 0 to 119\n",
      "dtypes: float64(120)\n",
      "memory usage: 337.6 KB\n"
     ]
    }
   ],
   "source": [
    "g=np.array(pd.read_csv('0dryR01.csv')['ScanData'])\n",
    "g=g.reshape(int(g.size/120),120)\n",
    "preddisp=pd.DataFrame(g)\n",
    "preddisp.info()\n",
    "preddisp.to_csv('disppred.csv',index=False, header=False)"
   ]
  },
  {
   "cell_type": "code",
   "execution_count": 122,
   "metadata": {},
   "outputs": [
    {
     "data": {
      "text/plain": [
       "(43200,)"
      ]
     },
     "execution_count": 122,
     "metadata": {},
     "output_type": "execute_result"
    }
   ],
   "source": [
    "y.shape"
   ]
  },
  {
   "cell_type": "code",
   "execution_count": null,
   "metadata": {},
   "outputs": [],
   "source": []
  }
 ],
 "metadata": {
  "kernelspec": {
   "display_name": "Python 3",
   "language": "python",
   "name": "python3"
  },
  "language_info": {
   "codemirror_mode": {
    "name": "ipython",
    "version": 3
   },
   "file_extension": ".py",
   "mimetype": "text/x-python",
   "name": "python",
   "nbconvert_exporter": "python",
   "pygments_lexer": "ipython3",
   "version": "3.5.2"
  }
 },
 "nbformat": 4,
 "nbformat_minor": 2
}
